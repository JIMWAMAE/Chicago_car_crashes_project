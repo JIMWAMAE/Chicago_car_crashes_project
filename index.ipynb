{
 "cells": [
  {
   "attachments": {},
   "cell_type": "markdown",
   "metadata": {},
   "source": [
    "## Curbing Car Crashes in Chicago."
   ]
  },
  {
   "attachments": {},
   "cell_type": "markdown",
   "metadata": {},
   "source": []
  },
  {
   "attachments": {},
   "cell_type": "markdown",
   "metadata": {},
   "source": []
  },
  {
   "attachments": {},
   "cell_type": "markdown",
   "metadata": {},
   "source": [
    "### Data understanding"
   ]
  },
  {
   "attachments": {},
   "cell_type": "markdown",
   "metadata": {},
   "source": [
    "#### Loading the data"
   ]
  },
  {
   "cell_type": "code",
   "execution_count": 60,
   "metadata": {},
   "outputs": [
    {
     "name": "stderr",
     "output_type": "stream",
     "text": [
      "c:\\condaa\\envs\\learn-env\\lib\\site-packages\\IPython\\core\\interactiveshell.py:3145: DtypeWarning: Columns (20,24,25,26,29) have mixed types.Specify dtype option on import or set low_memory=False.\n",
      "  has_raised = await self.run_ast_nodes(code_ast.body, cell_name,\n",
      "c:\\condaa\\envs\\learn-env\\lib\\site-packages\\IPython\\core\\interactiveshell.py:3145: DtypeWarning: Columns (4,19,21,39,40,41,42,44,48,49,50,53,55,58,59,61,65,71) have mixed types.Specify dtype option on import or set low_memory=False.\n",
      "  has_raised = await self.run_ast_nodes(code_ast.body, cell_name,\n"
     ]
    }
   ],
   "source": [
    "df_crashes = pd.read_csv('data/Crashes.csv')\n",
    "df_People = pd.read_csv('data/People.csv')\n",
    "df_Vehicles = pd.read_csv('data/Vehicles.csv')\n"
   ]
  },
  {
   "attachments": {},
   "cell_type": "markdown",
   "metadata": {},
   "source": [
    "##### 1. Crashes data cleaning"
   ]
  },
  {
   "cell_type": "code",
   "execution_count": 61,
   "metadata": {},
   "outputs": [
    {
     "data": {
      "text/html": [
       "<div>\n",
       "<style scoped>\n",
       "    .dataframe tbody tr th:only-of-type {\n",
       "        vertical-align: middle;\n",
       "    }\n",
       "\n",
       "    .dataframe tbody tr th {\n",
       "        vertical-align: top;\n",
       "    }\n",
       "\n",
       "    .dataframe thead th {\n",
       "        text-align: right;\n",
       "    }\n",
       "</style>\n",
       "<table border=\"1\" class=\"dataframe\">\n",
       "  <thead>\n",
       "    <tr style=\"text-align: right;\">\n",
       "      <th></th>\n",
       "      <th>CRASH_RECORD_ID</th>\n",
       "      <th>RD_NO</th>\n",
       "      <th>CRASH_DATE_EST_I</th>\n",
       "      <th>CRASH_DATE</th>\n",
       "      <th>POSTED_SPEED_LIMIT</th>\n",
       "      <th>TRAFFIC_CONTROL_DEVICE</th>\n",
       "      <th>DEVICE_CONDITION</th>\n",
       "      <th>WEATHER_CONDITION</th>\n",
       "      <th>LIGHTING_CONDITION</th>\n",
       "      <th>FIRST_CRASH_TYPE</th>\n",
       "      <th>...</th>\n",
       "      <th>INJURIES_NON_INCAPACITATING</th>\n",
       "      <th>INJURIES_REPORTED_NOT_EVIDENT</th>\n",
       "      <th>INJURIES_NO_INDICATION</th>\n",
       "      <th>INJURIES_UNKNOWN</th>\n",
       "      <th>CRASH_HOUR</th>\n",
       "      <th>CRASH_DAY_OF_WEEK</th>\n",
       "      <th>CRASH_MONTH</th>\n",
       "      <th>LATITUDE</th>\n",
       "      <th>LONGITUDE</th>\n",
       "      <th>LOCATION</th>\n",
       "    </tr>\n",
       "  </thead>\n",
       "  <tbody>\n",
       "    <tr>\n",
       "      <th>0</th>\n",
       "      <td>79c7a2ce89f446262efd86df3d72d18b04ba487024b7c4...</td>\n",
       "      <td>JC199149</td>\n",
       "      <td>NaN</td>\n",
       "      <td>03/25/2019 02:43:00 PM</td>\n",
       "      <td>30</td>\n",
       "      <td>TRAFFIC SIGNAL</td>\n",
       "      <td>FUNCTIONING PROPERLY</td>\n",
       "      <td>CLEAR</td>\n",
       "      <td>DAYLIGHT</td>\n",
       "      <td>TURNING</td>\n",
       "      <td>...</td>\n",
       "      <td>0.0</td>\n",
       "      <td>1.0</td>\n",
       "      <td>2.0</td>\n",
       "      <td>0.0</td>\n",
       "      <td>14</td>\n",
       "      <td>2</td>\n",
       "      <td>3</td>\n",
       "      <td>41.884547</td>\n",
       "      <td>-87.641201</td>\n",
       "      <td>POINT (-87.64120093714 41.884547224337)</td>\n",
       "    </tr>\n",
       "    <tr>\n",
       "      <th>1</th>\n",
       "      <td>792b539deaaad65ee5b4a9691d927a34d298eb33d42af0...</td>\n",
       "      <td>JB422857</td>\n",
       "      <td>NaN</td>\n",
       "      <td>09/05/2018 08:40:00 AM</td>\n",
       "      <td>30</td>\n",
       "      <td>NO CONTROLS</td>\n",
       "      <td>NO CONTROLS</td>\n",
       "      <td>CLEAR</td>\n",
       "      <td>DAYLIGHT</td>\n",
       "      <td>ANGLE</td>\n",
       "      <td>...</td>\n",
       "      <td>0.0</td>\n",
       "      <td>0.0</td>\n",
       "      <td>2.0</td>\n",
       "      <td>0.0</td>\n",
       "      <td>8</td>\n",
       "      <td>4</td>\n",
       "      <td>9</td>\n",
       "      <td>41.968562</td>\n",
       "      <td>-87.740659</td>\n",
       "      <td>POINT (-87.740659314632 41.968562453871)</td>\n",
       "    </tr>\n",
       "    <tr>\n",
       "      <th>2</th>\n",
       "      <td>0115ade9a755e835255508463f7e9c4a9a0b47e9304238...</td>\n",
       "      <td>JF318029</td>\n",
       "      <td>NaN</td>\n",
       "      <td>07/15/2022 12:45:00 AM</td>\n",
       "      <td>30</td>\n",
       "      <td>UNKNOWN</td>\n",
       "      <td>UNKNOWN</td>\n",
       "      <td>CLEAR</td>\n",
       "      <td>DARKNESS, LIGHTED ROAD</td>\n",
       "      <td>ANGLE</td>\n",
       "      <td>...</td>\n",
       "      <td>0.0</td>\n",
       "      <td>0.0</td>\n",
       "      <td>2.0</td>\n",
       "      <td>0.0</td>\n",
       "      <td>0</td>\n",
       "      <td>6</td>\n",
       "      <td>7</td>\n",
       "      <td>41.886336</td>\n",
       "      <td>-87.716203</td>\n",
       "      <td>POINT (-87.716203130599 41.886336409761)</td>\n",
       "    </tr>\n",
       "    <tr>\n",
       "      <th>3</th>\n",
       "      <td>05b1982cdba5d8a00e7e76ad1ecdab0e598429f78481d2...</td>\n",
       "      <td>JF378711</td>\n",
       "      <td>NaN</td>\n",
       "      <td>08/29/2022 11:30:00 AM</td>\n",
       "      <td>30</td>\n",
       "      <td>TRAFFIC SIGNAL</td>\n",
       "      <td>FUNCTIONING PROPERLY</td>\n",
       "      <td>CLEAR</td>\n",
       "      <td>DAYLIGHT</td>\n",
       "      <td>REAR END</td>\n",
       "      <td>...</td>\n",
       "      <td>0.0</td>\n",
       "      <td>0.0</td>\n",
       "      <td>3.0</td>\n",
       "      <td>0.0</td>\n",
       "      <td>11</td>\n",
       "      <td>2</td>\n",
       "      <td>8</td>\n",
       "      <td>41.749348</td>\n",
       "      <td>-87.721097</td>\n",
       "      <td>POINT (-87.721096727406 41.749348170421)</td>\n",
       "    </tr>\n",
       "    <tr>\n",
       "      <th>4</th>\n",
       "      <td>017040c61958d2fa977c956b2bd2d6759ef7754496dc96...</td>\n",
       "      <td>JF324552</td>\n",
       "      <td>NaN</td>\n",
       "      <td>07/15/2022 06:50:00 PM</td>\n",
       "      <td>30</td>\n",
       "      <td>TRAFFIC SIGNAL</td>\n",
       "      <td>FUNCTIONING PROPERLY</td>\n",
       "      <td>CLEAR</td>\n",
       "      <td>DAYLIGHT</td>\n",
       "      <td>REAR END</td>\n",
       "      <td>...</td>\n",
       "      <td>0.0</td>\n",
       "      <td>0.0</td>\n",
       "      <td>2.0</td>\n",
       "      <td>0.0</td>\n",
       "      <td>18</td>\n",
       "      <td>6</td>\n",
       "      <td>7</td>\n",
       "      <td>41.925111</td>\n",
       "      <td>-87.667997</td>\n",
       "      <td>POINT (-87.667997321599 41.925110815832)</td>\n",
       "    </tr>\n",
       "  </tbody>\n",
       "</table>\n",
       "<p>5 rows × 49 columns</p>\n",
       "</div>"
      ],
      "text/plain": [
       "                                     CRASH_RECORD_ID     RD_NO  \\\n",
       "0  79c7a2ce89f446262efd86df3d72d18b04ba487024b7c4...  JC199149   \n",
       "1  792b539deaaad65ee5b4a9691d927a34d298eb33d42af0...  JB422857   \n",
       "2  0115ade9a755e835255508463f7e9c4a9a0b47e9304238...  JF318029   \n",
       "3  05b1982cdba5d8a00e7e76ad1ecdab0e598429f78481d2...  JF378711   \n",
       "4  017040c61958d2fa977c956b2bd2d6759ef7754496dc96...  JF324552   \n",
       "\n",
       "  CRASH_DATE_EST_I              CRASH_DATE  POSTED_SPEED_LIMIT  \\\n",
       "0              NaN  03/25/2019 02:43:00 PM                  30   \n",
       "1              NaN  09/05/2018 08:40:00 AM                  30   \n",
       "2              NaN  07/15/2022 12:45:00 AM                  30   \n",
       "3              NaN  08/29/2022 11:30:00 AM                  30   \n",
       "4              NaN  07/15/2022 06:50:00 PM                  30   \n",
       "\n",
       "  TRAFFIC_CONTROL_DEVICE      DEVICE_CONDITION WEATHER_CONDITION  \\\n",
       "0         TRAFFIC SIGNAL  FUNCTIONING PROPERLY             CLEAR   \n",
       "1            NO CONTROLS           NO CONTROLS             CLEAR   \n",
       "2                UNKNOWN               UNKNOWN             CLEAR   \n",
       "3         TRAFFIC SIGNAL  FUNCTIONING PROPERLY             CLEAR   \n",
       "4         TRAFFIC SIGNAL  FUNCTIONING PROPERLY             CLEAR   \n",
       "\n",
       "       LIGHTING_CONDITION FIRST_CRASH_TYPE  ... INJURIES_NON_INCAPACITATING  \\\n",
       "0                DAYLIGHT          TURNING  ...                         0.0   \n",
       "1                DAYLIGHT            ANGLE  ...                         0.0   \n",
       "2  DARKNESS, LIGHTED ROAD            ANGLE  ...                         0.0   \n",
       "3                DAYLIGHT         REAR END  ...                         0.0   \n",
       "4                DAYLIGHT         REAR END  ...                         0.0   \n",
       "\n",
       "   INJURIES_REPORTED_NOT_EVIDENT INJURIES_NO_INDICATION INJURIES_UNKNOWN  \\\n",
       "0                            1.0                    2.0              0.0   \n",
       "1                            0.0                    2.0              0.0   \n",
       "2                            0.0                    2.0              0.0   \n",
       "3                            0.0                    3.0              0.0   \n",
       "4                            0.0                    2.0              0.0   \n",
       "\n",
       "  CRASH_HOUR CRASH_DAY_OF_WEEK CRASH_MONTH   LATITUDE  LONGITUDE  \\\n",
       "0         14                 2           3  41.884547 -87.641201   \n",
       "1          8                 4           9  41.968562 -87.740659   \n",
       "2          0                 6           7  41.886336 -87.716203   \n",
       "3         11                 2           8  41.749348 -87.721097   \n",
       "4         18                 6           7  41.925111 -87.667997   \n",
       "\n",
       "                                   LOCATION  \n",
       "0   POINT (-87.64120093714 41.884547224337)  \n",
       "1  POINT (-87.740659314632 41.968562453871)  \n",
       "2  POINT (-87.716203130599 41.886336409761)  \n",
       "3  POINT (-87.721096727406 41.749348170421)  \n",
       "4  POINT (-87.667997321599 41.925110815832)  \n",
       "\n",
       "[5 rows x 49 columns]"
      ]
     },
     "execution_count": 61,
     "metadata": {},
     "output_type": "execute_result"
    }
   ],
   "source": [
    "df_crashes.head()"
   ]
  },
  {
   "attachments": {},
   "cell_type": "markdown",
   "metadata": {},
   "source": [
    "We will go ahead and check for null values in our crashes data."
   ]
  },
  {
   "cell_type": "code",
   "execution_count": 62,
   "metadata": {},
   "outputs": [
    {
     "data": {
      "text/plain": [
       "CRASH_RECORD_ID                       0\n",
       "RD_NO                              4598\n",
       "CRASH_DATE_EST_I                 668460\n",
       "CRASH_DATE                            0\n",
       "POSTED_SPEED_LIMIT                    0\n",
       "TRAFFIC_CONTROL_DEVICE                0\n",
       "DEVICE_CONDITION                      0\n",
       "WEATHER_CONDITION                     0\n",
       "LIGHTING_CONDITION                    0\n",
       "FIRST_CRASH_TYPE                      0\n",
       "TRAFFICWAY_TYPE                       0\n",
       "LANE_CNT                         524138\n",
       "ALIGNMENT                             0\n",
       "ROADWAY_SURFACE_COND                  0\n",
       "ROAD_DEFECT                           0\n",
       "REPORT_TYPE                       20306\n",
       "CRASH_TYPE                            0\n",
       "INTERSECTION_RELATED_I           557272\n",
       "NOT_RIGHT_OF_WAY_I               689379\n",
       "HIT_AND_RUN_I                    498002\n",
       "DAMAGE                                0\n",
       "DATE_POLICE_NOTIFIED                  0\n",
       "PRIM_CONTRIBUTORY_CAUSE               0\n",
       "SEC_CONTRIBUTORY_CAUSE                0\n",
       "STREET_NO                             0\n",
       "STREET_DIRECTION                      4\n",
       "STREET_NAME                           1\n",
       "BEAT_OF_OCCURRENCE                    5\n",
       "PHOTOS_TAKEN_I                   714057\n",
       "STATEMENTS_TAKEN_I               707733\n",
       "DOORING_I                        720954\n",
       "WORK_ZONE_I                      718930\n",
       "WORK_ZONE_TYPE                   719850\n",
       "WORKERS_PRESENT_I                722055\n",
       "NUM_UNITS                             0\n",
       "MOST_SEVERE_INJURY                 1576\n",
       "INJURIES_TOTAL                     1565\n",
       "INJURIES_FATAL                     1565\n",
       "INJURIES_INCAPACITATING            1565\n",
       "INJURIES_NON_INCAPACITATING        1565\n",
       "INJURIES_REPORTED_NOT_EVIDENT      1565\n",
       "INJURIES_NO_INDICATION             1565\n",
       "INJURIES_UNKNOWN                   1565\n",
       "CRASH_HOUR                            0\n",
       "CRASH_DAY_OF_WEEK                     0\n",
       "CRASH_MONTH                           0\n",
       "LATITUDE                           4679\n",
       "LONGITUDE                          4679\n",
       "LOCATION                           4679\n",
       "dtype: int64"
      ]
     },
     "execution_count": 62,
     "metadata": {},
     "output_type": "execute_result"
    }
   ],
   "source": [
    "df_crashes.isna().sum()"
   ]
  },
  {
   "attachments": {},
   "cell_type": "markdown",
   "metadata": {},
   "source": [
    "We have to consider what data will be important for our modeling based on the problem domain and some of the columns will not really help us to generate insights frm our data. Therefore we will drop the columns below before proceeding to dealing the missing data. "
   ]
  },
  {
   "cell_type": "code",
   "execution_count": 63,
   "metadata": {},
   "outputs": [],
   "source": [
    "# Creating a function to remove irrelevant columns \n",
    "def ignore(data,columns_to_ignore):\n",
    "    delete_cols = data.drop(columns_to_ignore,axis=1).copy()\n",
    "    return delete_cols\n",
    "\n"
   ]
  },
  {
   "cell_type": "code",
   "execution_count": 64,
   "metadata": {},
   "outputs": [],
   "source": [
    "# Identifying the columns to ignore from crashes data \n",
    "columns_to_ignore = ['REPORT_TYPE','DATE_POLICE_NOTIFIED', 'RD_NO', 'CRASH_DATE_EST_I', 'CRASH_DATE','LANE_CNT',\n",
    " 'SEC_CONTRIBUTORY_CAUSE','STREET_NO','STREET_DIRECTION', 'STREET_NAME','PHOTOS_TAKEN_I', 'STATEMENTS_TAKEN_I', \n",
    "'BEAT_OF_OCCURRENCE', 'MOST_SEVERE_INJURY', 'INJURIES_TOTAL','INJURIES_FATAL','INJURIES_INCAPACITATING', \n",
    "'INJURIES_NON_INCAPACITATING', 'INJURIES_REPORTED_NOT_EVIDENT', 'INJURIES_NO_INDICATION',\n",
    "'INJURIES_UNKNOWN']\n",
    "\n",
    "# calling the function to drop the identified columns\n",
    "df_crashes_clean = ignore(df_crashes,columns_to_ignore)"
   ]
  },
  {
   "attachments": {},
   "cell_type": "markdown",
   "metadata": {},
   "source": [
    "Some of the columns we have left have so many entries missing and therefore they will not be of help with the moddeling and therefore we will drop the entire columns. There are others like Longitude, Latitude and Location that have just a few missing entries and we will therefore only eliminat the missing rows."
   ]
  },
  {
   "cell_type": "code",
   "execution_count": 65,
   "metadata": {},
   "outputs": [
    {
     "data": {
      "text/plain": [
       "CRASH_RECORD_ID                 0\n",
       "POSTED_SPEED_LIMIT              0\n",
       "TRAFFIC_CONTROL_DEVICE          0\n",
       "DEVICE_CONDITION                0\n",
       "WEATHER_CONDITION               0\n",
       "LIGHTING_CONDITION              0\n",
       "FIRST_CRASH_TYPE                0\n",
       "TRAFFICWAY_TYPE                 0\n",
       "ALIGNMENT                       0\n",
       "ROADWAY_SURFACE_COND            0\n",
       "ROAD_DEFECT                     0\n",
       "CRASH_TYPE                      0\n",
       "INTERSECTION_RELATED_I     557272\n",
       "NOT_RIGHT_OF_WAY_I         689379\n",
       "HIT_AND_RUN_I              498002\n",
       "DAMAGE                          0\n",
       "PRIM_CONTRIBUTORY_CAUSE         0\n",
       "DOORING_I                  720954\n",
       "WORK_ZONE_I                718930\n",
       "WORK_ZONE_TYPE             719850\n",
       "WORKERS_PRESENT_I          722055\n",
       "NUM_UNITS                       0\n",
       "CRASH_HOUR                      0\n",
       "CRASH_DAY_OF_WEEK               0\n",
       "CRASH_MONTH                     0\n",
       "LATITUDE                     4679\n",
       "LONGITUDE                    4679\n",
       "LOCATION                     4679\n",
       "dtype: int64"
      ]
     },
     "execution_count": 65,
     "metadata": {},
     "output_type": "execute_result"
    }
   ],
   "source": [
    "df_crashes_clean.isna().sum()"
   ]
  },
  {
   "attachments": {},
   "cell_type": "markdown",
   "metadata": {},
   "source": [
    "We will now go ahead and deal with the missing data from our data. Some of the columns have more than 50% of the data missing where some have less than 10% of the data missing.\n",
    "Compared to total number of values  488,290, we have majority of values missing for 'Intersection_related', 'Not_right_of_way', 'Hit_and_run', 'Dooring', 'Work_zone', 'Work_Zone_Type', and 'Workers_Present'. This will therefore require us to remove these columns as well. "
   ]
  },
  {
   "cell_type": "code",
   "execution_count": 66,
   "metadata": {},
   "outputs": [],
   "source": [
    "# A function to drop missing data columns\n",
    "def drop_missing(data,columns_to_ignore):\n",
    "    delete_cols = data.drop(columns_to_ignore,axis=1).copy()\n",
    "    return delete_cols\n"
   ]
  },
  {
   "cell_type": "code",
   "execution_count": 67,
   "metadata": {},
   "outputs": [],
   "source": [
    "# Identifying the columns to drop\n",
    "columns_missing = ['INTERSECTION_RELATED_I', 'NOT_RIGHT_OF_WAY_I','HIT_AND_RUN_I','DOORING_I','WORK_ZONE_I','WORK_ZONE_TYPE', 'WORKERS_PRESENT_I']\n",
    "#calling the function do drop the missing data.\n",
    "df_crashes_clean = drop_missing(df_crashes_clean,columns_missing)"
   ]
  },
  {
   "attachments": {},
   "cell_type": "markdown",
   "metadata": {},
   "source": [
    "Having dropped the missing data columns we will now drop the missing data rows that contained less than 10% of the data missing."
   ]
  },
  {
   "cell_type": "code",
   "execution_count": 71,
   "metadata": {},
   "outputs": [
    {
     "data": {
      "text/plain": [
       "CRASH_RECORD_ID               0\n",
       "POSTED_SPEED_LIMIT            0\n",
       "TRAFFIC_CONTROL_DEVICE        0\n",
       "DEVICE_CONDITION              0\n",
       "WEATHER_CONDITION             0\n",
       "LIGHTING_CONDITION            0\n",
       "FIRST_CRASH_TYPE              0\n",
       "TRAFFICWAY_TYPE               0\n",
       "ALIGNMENT                     0\n",
       "ROADWAY_SURFACE_COND          0\n",
       "ROAD_DEFECT                   0\n",
       "CRASH_TYPE                    0\n",
       "DAMAGE                        0\n",
       "PRIM_CONTRIBUTORY_CAUSE       0\n",
       "NUM_UNITS                     0\n",
       "CRASH_HOUR                    0\n",
       "CRASH_DAY_OF_WEEK             0\n",
       "CRASH_MONTH                   0\n",
       "LATITUDE                   4679\n",
       "LONGITUDE                  4679\n",
       "LOCATION                   4679\n",
       "dtype: int64"
      ]
     },
     "execution_count": 71,
     "metadata": {},
     "output_type": "execute_result"
    }
   ],
   "source": [
    "# Looking up the remaining missing data\n",
    "df_crashes_clean.isna().sum()"
   ]
  },
  {
   "attachments": {},
   "cell_type": "markdown",
   "metadata": {},
   "source": [
    "We have eliminated the majority of the missing data . We want a clean data set therefore leaving no stone unturned we will go ahead to finaly dropna the remaining missing values."
   ]
  },
  {
   "cell_type": "code",
   "execution_count": 73,
   "metadata": {},
   "outputs": [],
   "source": [
    "# Dropping the remaining rows of missing data\n",
    "df_crashes_clean.dropna(axis=0, inplace=True)"
   ]
  },
  {
   "cell_type": "code",
   "execution_count": 75,
   "metadata": {},
   "outputs": [
    {
     "data": {
      "text/plain": [
       "CRASH_RECORD_ID            0\n",
       "POSTED_SPEED_LIMIT         0\n",
       "TRAFFIC_CONTROL_DEVICE     0\n",
       "DEVICE_CONDITION           0\n",
       "WEATHER_CONDITION          0\n",
       "LIGHTING_CONDITION         0\n",
       "FIRST_CRASH_TYPE           0\n",
       "TRAFFICWAY_TYPE            0\n",
       "ALIGNMENT                  0\n",
       "ROADWAY_SURFACE_COND       0\n",
       "ROAD_DEFECT                0\n",
       "CRASH_TYPE                 0\n",
       "DAMAGE                     0\n",
       "PRIM_CONTRIBUTORY_CAUSE    0\n",
       "NUM_UNITS                  0\n",
       "CRASH_HOUR                 0\n",
       "CRASH_DAY_OF_WEEK          0\n",
       "CRASH_MONTH                0\n",
       "LATITUDE                   0\n",
       "LONGITUDE                  0\n",
       "LOCATION                   0\n",
       "dtype: int64"
      ]
     },
     "execution_count": 75,
     "metadata": {},
     "output_type": "execute_result"
    }
   ],
   "source": [
    "# Looking up the missing values.\n",
    "df_crashes_clean.isna().sum()"
   ]
  },
  {
   "cell_type": "code",
   "execution_count": 76,
   "metadata": {},
   "outputs": [
    {
     "data": {
      "text/plain": [
       "(718461, 21)"
      ]
     },
     "execution_count": 76,
     "metadata": {},
     "output_type": "execute_result"
    }
   ],
   "source": [
    "df_crashes_clean.shape"
   ]
  },
  {
   "attachments": {},
   "cell_type": "markdown",
   "metadata": {},
   "source": [
    "Success!!! We have dealt with the missing data as well as the columns to ignore. We started off with 49 columns down to 21 columns."
   ]
  },
  {
   "attachments": {},
   "cell_type": "markdown",
   "metadata": {},
   "source": [
    "From this data set our target variable will be the primary contributor of crashes which helps us identify what caused the most crashes in chicago."
   ]
  },
  {
   "cell_type": "code",
   "execution_count": 77,
   "metadata": {},
   "outputs": [
    {
     "data": {
      "text/plain": [
       "UNABLE TO DETERMINE                                                                 277269\n",
       "FAILING TO YIELD RIGHT-OF-WAY                                                        78544\n",
       "FOLLOWING TOO CLOSELY                                                                71166\n",
       "NOT APPLICABLE                                                                       37883\n",
       "IMPROPER OVERTAKING/PASSING                                                          34912\n",
       "FAILING TO REDUCE SPEED TO AVOID CRASH                                               30575\n",
       "IMPROPER BACKING                                                                     28947\n",
       "IMPROPER LANE USAGE                                                                  26137\n",
       "IMPROPER TURNING/NO SIGNAL                                                           23751\n",
       "DRIVING SKILLS/KNOWLEDGE/EXPERIENCE                                                  23484\n",
       "DISREGARDING TRAFFIC SIGNALS                                                         13912\n",
       "WEATHER                                                                              11294\n",
       "OPERATING VEHICLE IN ERRATIC, RECKLESS, CARELESS, NEGLIGENT OR AGGRESSIVE MANNER      9153\n",
       "DISREGARDING STOP SIGN                                                                7942\n",
       "DISTRACTION - FROM INSIDE VEHICLE                                                     4984\n",
       "EQUIPMENT - VEHICLE CONDITION                                                         4537\n",
       "PHYSICAL CONDITION OF DRIVER                                                          4374\n",
       "VISION OBSCURED (SIGNS, TREE LIMBS, BUILDINGS, ETC.)                                  4109\n",
       "DRIVING ON WRONG SIDE/WRONG WAY                                                       3752\n",
       "UNDER THE INFLUENCE OF ALCOHOL/DRUGS (USE WHEN ARREST IS EFFECTED)                    3510\n",
       "DISTRACTION - FROM OUTSIDE VEHICLE                                                    3029\n",
       "EXCEEDING AUTHORIZED SPEED LIMIT                                                      1967\n",
       "ROAD ENGINEERING/SURFACE/MARKING DEFECTS                                              1866\n",
       "EXCEEDING SAFE SPEED FOR CONDITIONS                                                   1674\n",
       "ROAD CONSTRUCTION/MAINTENANCE                                                         1599\n",
       "DISREGARDING OTHER TRAFFIC SIGNS                                                      1548\n",
       "EVASIVE ACTION DUE TO ANIMAL, OBJECT, NONMOTORIST                                     1347\n",
       "CELL PHONE USE OTHER THAN TEXTING                                                      973\n",
       "DISREGARDING ROAD MARKINGS                                                             903\n",
       "HAD BEEN DRINKING (USE WHEN ARREST IS NOT MADE)                                        761\n",
       "ANIMAL                                                                                 606\n",
       "TURNING RIGHT ON RED                                                                   509\n",
       "DISTRACTION - OTHER ELECTRONIC DEVICE (NAVIGATION DEVICE, DVD PLAYER, ETC.)            337\n",
       "RELATED TO BUS STOP                                                                    315\n",
       "TEXTING                                                                                291\n",
       "DISREGARDING YIELD SIGN                                                                251\n",
       "PASSING STOPPED SCHOOL BUS                                                              88\n",
       "BICYCLE ADVANCING LEGALLY ON RED LIGHT                                                  75\n",
       "OBSTRUCTED CROSSWALKS                                                                   67\n",
       "MOTORCYCLE ADVANCING LEGALLY ON RED LIGHT                                               20\n",
       "Name: PRIM_CONTRIBUTORY_CAUSE, dtype: int64"
      ]
     },
     "execution_count": 77,
     "metadata": {},
     "output_type": "execute_result"
    }
   ],
   "source": [
    "# Looking up our target variable\n",
    "df_crashes_clean['PRIM_CONTRIBUTORY_CAUSE'].value_counts()"
   ]
  },
  {
   "attachments": {},
   "cell_type": "markdown",
   "metadata": {},
   "source": [
    "From this we can identify that the majority of the crashes happen without the primary contributor being identified. This will not help us in curbing the crashes in chicago for we would like to get down to accidents root cause. Equally the 4th contributor of accidents is not applicable and equally should be dropped."
   ]
  },
  {
   "cell_type": "code",
   "execution_count": 79,
   "metadata": {},
   "outputs": [],
   "source": [
    "# Dropping Not applicable and unable to determine from our dataset\n",
    "df_crashes_clean = df_crashes_clean[(df_crashes_clean.PRIM_CONTRIBUTORY_CAUSE != 'UNABLE TO DETERMINE') &\n",
    "(df_crashes_clean.PRIM_CONTRIBUTORY_CAUSE != 'NOT APPLICABLE')].copy()"
   ]
  },
  {
   "cell_type": "code",
   "execution_count": 81,
   "metadata": {},
   "outputs": [
    {
     "data": {
      "text/plain": [
       "(403309, 21)"
      ]
     },
     "execution_count": 81,
     "metadata": {},
     "output_type": "execute_result"
    }
   ],
   "source": [
    "# Checking the number of rows and columns of our clean data set\n",
    "df_crashes_clean.shape"
   ]
  },
  {
   "attachments": {},
   "cell_type": "markdown",
   "metadata": {},
   "source": [
    "##### 2. People data cleaning."
   ]
  },
  {
   "attachments": {},
   "cell_type": "markdown",
   "metadata": {},
   "source": [
    "We will perfom a similar proces for our second data set so as to come up with a clean data set."
   ]
  },
  {
   "cell_type": "code",
   "execution_count": 84,
   "metadata": {},
   "outputs": [
    {
     "data": {
      "text/html": [
       "<div>\n",
       "<style scoped>\n",
       "    .dataframe tbody tr th:only-of-type {\n",
       "        vertical-align: middle;\n",
       "    }\n",
       "\n",
       "    .dataframe tbody tr th {\n",
       "        vertical-align: top;\n",
       "    }\n",
       "\n",
       "    .dataframe thead th {\n",
       "        text-align: right;\n",
       "    }\n",
       "</style>\n",
       "<table border=\"1\" class=\"dataframe\">\n",
       "  <thead>\n",
       "    <tr style=\"text-align: right;\">\n",
       "      <th></th>\n",
       "      <th>PERSON_ID</th>\n",
       "      <th>PERSON_TYPE</th>\n",
       "      <th>CRASH_RECORD_ID</th>\n",
       "      <th>RD_NO</th>\n",
       "      <th>VEHICLE_ID</th>\n",
       "      <th>CRASH_DATE</th>\n",
       "      <th>SEAT_NO</th>\n",
       "      <th>CITY</th>\n",
       "      <th>STATE</th>\n",
       "      <th>ZIPCODE</th>\n",
       "      <th>...</th>\n",
       "      <th>EMS_RUN_NO</th>\n",
       "      <th>DRIVER_ACTION</th>\n",
       "      <th>DRIVER_VISION</th>\n",
       "      <th>PHYSICAL_CONDITION</th>\n",
       "      <th>PEDPEDAL_ACTION</th>\n",
       "      <th>PEDPEDAL_VISIBILITY</th>\n",
       "      <th>PEDPEDAL_LOCATION</th>\n",
       "      <th>BAC_RESULT</th>\n",
       "      <th>BAC_RESULT VALUE</th>\n",
       "      <th>CELL_PHONE_USE</th>\n",
       "    </tr>\n",
       "  </thead>\n",
       "  <tbody>\n",
       "    <tr>\n",
       "      <th>0</th>\n",
       "      <td>O749947</td>\n",
       "      <td>DRIVER</td>\n",
       "      <td>81dc0de2ed92aa62baccab641fa377be7feb1cc47e6554...</td>\n",
       "      <td>JC451435</td>\n",
       "      <td>834816.0</td>\n",
       "      <td>09/28/2019 03:30:00 AM</td>\n",
       "      <td>NaN</td>\n",
       "      <td>CHICAGO</td>\n",
       "      <td>IL</td>\n",
       "      <td>60651</td>\n",
       "      <td>...</td>\n",
       "      <td>NaN</td>\n",
       "      <td>UNKNOWN</td>\n",
       "      <td>UNKNOWN</td>\n",
       "      <td>UNKNOWN</td>\n",
       "      <td>NaN</td>\n",
       "      <td>NaN</td>\n",
       "      <td>NaN</td>\n",
       "      <td>TEST NOT OFFERED</td>\n",
       "      <td>NaN</td>\n",
       "      <td>NaN</td>\n",
       "    </tr>\n",
       "    <tr>\n",
       "      <th>1</th>\n",
       "      <td>O871921</td>\n",
       "      <td>DRIVER</td>\n",
       "      <td>af84fb5c8d996fcd3aefd36593c3a02e6e7509eeb27568...</td>\n",
       "      <td>JD208731</td>\n",
       "      <td>827212.0</td>\n",
       "      <td>04/13/2020 10:50:00 PM</td>\n",
       "      <td>NaN</td>\n",
       "      <td>CHICAGO</td>\n",
       "      <td>IL</td>\n",
       "      <td>60620</td>\n",
       "      <td>...</td>\n",
       "      <td>NaN</td>\n",
       "      <td>NONE</td>\n",
       "      <td>NOT OBSCURED</td>\n",
       "      <td>NORMAL</td>\n",
       "      <td>NaN</td>\n",
       "      <td>NaN</td>\n",
       "      <td>NaN</td>\n",
       "      <td>TEST NOT OFFERED</td>\n",
       "      <td>NaN</td>\n",
       "      <td>NaN</td>\n",
       "    </tr>\n",
       "    <tr>\n",
       "      <th>2</th>\n",
       "      <td>O10018</td>\n",
       "      <td>DRIVER</td>\n",
       "      <td>71162af7bf22799b776547132ebf134b5b438dcf3dac6b...</td>\n",
       "      <td>HY484534</td>\n",
       "      <td>9579.0</td>\n",
       "      <td>11/01/2015 05:00:00 AM</td>\n",
       "      <td>NaN</td>\n",
       "      <td>NaN</td>\n",
       "      <td>NaN</td>\n",
       "      <td>NaN</td>\n",
       "      <td>...</td>\n",
       "      <td>NaN</td>\n",
       "      <td>IMPROPER BACKING</td>\n",
       "      <td>UNKNOWN</td>\n",
       "      <td>UNKNOWN</td>\n",
       "      <td>NaN</td>\n",
       "      <td>NaN</td>\n",
       "      <td>NaN</td>\n",
       "      <td>TEST NOT OFFERED</td>\n",
       "      <td>NaN</td>\n",
       "      <td>NaN</td>\n",
       "    </tr>\n",
       "    <tr>\n",
       "      <th>3</th>\n",
       "      <td>O10038</td>\n",
       "      <td>DRIVER</td>\n",
       "      <td>c21c476e2ccc41af550b5d858d22aaac4ffc88745a1700...</td>\n",
       "      <td>HY484750</td>\n",
       "      <td>9598.0</td>\n",
       "      <td>11/01/2015 08:00:00 AM</td>\n",
       "      <td>NaN</td>\n",
       "      <td>NaN</td>\n",
       "      <td>NaN</td>\n",
       "      <td>NaN</td>\n",
       "      <td>...</td>\n",
       "      <td>NaN</td>\n",
       "      <td>UNKNOWN</td>\n",
       "      <td>UNKNOWN</td>\n",
       "      <td>UNKNOWN</td>\n",
       "      <td>NaN</td>\n",
       "      <td>NaN</td>\n",
       "      <td>NaN</td>\n",
       "      <td>TEST NOT OFFERED</td>\n",
       "      <td>NaN</td>\n",
       "      <td>NaN</td>\n",
       "    </tr>\n",
       "    <tr>\n",
       "      <th>4</th>\n",
       "      <td>O10039</td>\n",
       "      <td>DRIVER</td>\n",
       "      <td>eb390a4c8e114c69488f5fb8a097fe629f5a92fd528cf4...</td>\n",
       "      <td>HY484778</td>\n",
       "      <td>9600.0</td>\n",
       "      <td>11/01/2015 10:15:00 AM</td>\n",
       "      <td>NaN</td>\n",
       "      <td>NaN</td>\n",
       "      <td>NaN</td>\n",
       "      <td>NaN</td>\n",
       "      <td>...</td>\n",
       "      <td>NaN</td>\n",
       "      <td>UNKNOWN</td>\n",
       "      <td>UNKNOWN</td>\n",
       "      <td>UNKNOWN</td>\n",
       "      <td>NaN</td>\n",
       "      <td>NaN</td>\n",
       "      <td>NaN</td>\n",
       "      <td>TEST NOT OFFERED</td>\n",
       "      <td>NaN</td>\n",
       "      <td>NaN</td>\n",
       "    </tr>\n",
       "  </tbody>\n",
       "</table>\n",
       "<p>5 rows × 30 columns</p>\n",
       "</div>"
      ],
      "text/plain": [
       "  PERSON_ID PERSON_TYPE                                    CRASH_RECORD_ID  \\\n",
       "0   O749947      DRIVER  81dc0de2ed92aa62baccab641fa377be7feb1cc47e6554...   \n",
       "1   O871921      DRIVER  af84fb5c8d996fcd3aefd36593c3a02e6e7509eeb27568...   \n",
       "2    O10018      DRIVER  71162af7bf22799b776547132ebf134b5b438dcf3dac6b...   \n",
       "3    O10038      DRIVER  c21c476e2ccc41af550b5d858d22aaac4ffc88745a1700...   \n",
       "4    O10039      DRIVER  eb390a4c8e114c69488f5fb8a097fe629f5a92fd528cf4...   \n",
       "\n",
       "      RD_NO  VEHICLE_ID              CRASH_DATE  SEAT_NO     CITY STATE  \\\n",
       "0  JC451435    834816.0  09/28/2019 03:30:00 AM      NaN  CHICAGO    IL   \n",
       "1  JD208731    827212.0  04/13/2020 10:50:00 PM      NaN  CHICAGO    IL   \n",
       "2  HY484534      9579.0  11/01/2015 05:00:00 AM      NaN      NaN   NaN   \n",
       "3  HY484750      9598.0  11/01/2015 08:00:00 AM      NaN      NaN   NaN   \n",
       "4  HY484778      9600.0  11/01/2015 10:15:00 AM      NaN      NaN   NaN   \n",
       "\n",
       "  ZIPCODE  ... EMS_RUN_NO     DRIVER_ACTION DRIVER_VISION PHYSICAL_CONDITION  \\\n",
       "0   60651  ...        NaN           UNKNOWN       UNKNOWN            UNKNOWN   \n",
       "1   60620  ...        NaN              NONE  NOT OBSCURED             NORMAL   \n",
       "2     NaN  ...        NaN  IMPROPER BACKING       UNKNOWN            UNKNOWN   \n",
       "3     NaN  ...        NaN           UNKNOWN       UNKNOWN            UNKNOWN   \n",
       "4     NaN  ...        NaN           UNKNOWN       UNKNOWN            UNKNOWN   \n",
       "\n",
       "  PEDPEDAL_ACTION PEDPEDAL_VISIBILITY PEDPEDAL_LOCATION        BAC_RESULT  \\\n",
       "0             NaN                 NaN               NaN  TEST NOT OFFERED   \n",
       "1             NaN                 NaN               NaN  TEST NOT OFFERED   \n",
       "2             NaN                 NaN               NaN  TEST NOT OFFERED   \n",
       "3             NaN                 NaN               NaN  TEST NOT OFFERED   \n",
       "4             NaN                 NaN               NaN  TEST NOT OFFERED   \n",
       "\n",
       "  BAC_RESULT VALUE CELL_PHONE_USE  \n",
       "0              NaN            NaN  \n",
       "1              NaN            NaN  \n",
       "2              NaN            NaN  \n",
       "3              NaN            NaN  \n",
       "4              NaN            NaN  \n",
       "\n",
       "[5 rows x 30 columns]"
      ]
     },
     "execution_count": 84,
     "metadata": {},
     "output_type": "execute_result"
    }
   ],
   "source": [
    "# displaying first five rows\n",
    "df_People.head()"
   ]
  },
  {
   "cell_type": "code",
   "execution_count": 89,
   "metadata": {},
   "outputs": [
    {
     "data": {
      "text/plain": [
       "PERSON_ID                      0\n",
       "PERSON_TYPE                    0\n",
       "CRASH_RECORD_ID                0\n",
       "RD_NO                      10529\n",
       "VEHICLE_ID                 31009\n",
       "CRASH_DATE                     0\n",
       "SEAT_NO                  1264646\n",
       "CITY                      428450\n",
       "STATE                     412521\n",
       "ZIPCODE                   526883\n",
       "SEX                        25179\n",
       "AGE                       461584\n",
       "DRIVERS_LICENSE_STATE     653691\n",
       "DRIVERS_LICENSE_CLASS     799546\n",
       "SAFETY_EQUIPMENT            4473\n",
       "AIRBAG_DEPLOYED            29812\n",
       "EJECTION                   19354\n",
       "INJURY_CLASSIFICATION        688\n",
       "HOSPITAL                 1314559\n",
       "EMS_AGENCY               1417344\n",
       "EMS_RUN_NO               1557667\n",
       "DRIVER_ACTION             323587\n",
       "DRIVER_VISION             324040\n",
       "PHYSICAL_CONDITION        322708\n",
       "PEDPEDAL_ACTION          1555962\n",
       "PEDPEDAL_VISIBILITY      1556020\n",
       "PEDPEDAL_LOCATION        1555963\n",
       "BAC_RESULT                322565\n",
       "BAC_RESULT VALUE         1583513\n",
       "CELL_PHONE_USE           1584214\n",
       "dtype: int64"
      ]
     },
     "execution_count": 89,
     "metadata": {},
     "output_type": "execute_result"
    }
   ],
   "source": [
    "#checking null values\n",
    "df_People.isna().sum()"
   ]
  },
  {
   "attachments": {},
   "cell_type": "markdown",
   "metadata": {},
   "source": [
    "Thats alot of missing data and it bascally helps us get rid of the columns that will not be of help in reducing the car crashes in chicago and thue we will first drop irrelevant columns. We will mainly remain with the columns that contain information that led to the accidents occurence rater that details about the drivers and dates."
   ]
  },
  {
   "cell_type": "code",
   "execution_count": 96,
   "metadata": {},
   "outputs": [],
   "source": [
    "#Identifying columns to drop\n",
    "columns_to_ignore_2 = [ 'CRASH_DATE', 'SEAT_NO', 'CITY', 'STATE', 'PERSON_ID', 'RD_NO', 'DRIVERS_LICENSE_STATE', 'DRIVERS_LICENSE_CLASS', 'SAFETY_EQUIPMENT', 'AIRBAG_DEPLOYED', 'EJECTION', \n",
    "'INJURY_CLASSIFICATION', 'HOSPITAL', 'EMS_AGENCY', 'EMS_RUN_NO','ZIPCODE','PEDPEDAL_LOCATION','BAC_RESULT']\n",
    "\n",
    "#calling function to drop the columns\n",
    "df_People_clean = ignore(df_People,columns_to_ignore_2)"
   ]
  },
  {
   "attachments": {},
   "cell_type": "markdown",
   "metadata": {},
   "source": [
    "We will now handle the missing data from the remainin set of data"
   ]
  },
  {
   "cell_type": "code",
   "execution_count": 97,
   "metadata": {},
   "outputs": [
    {
     "data": {
      "text/plain": [
       "PERSON_TYPE                  0\n",
       "CRASH_RECORD_ID              0\n",
       "VEHICLE_ID               31009\n",
       "SEX                      25179\n",
       "AGE                     461584\n",
       "DRIVER_ACTION           323587\n",
       "DRIVER_VISION           324040\n",
       "PHYSICAL_CONDITION      322708\n",
       "PEDPEDAL_ACTION        1555962\n",
       "PEDPEDAL_VISIBILITY    1556020\n",
       "BAC_RESULT VALUE       1583513\n",
       "CELL_PHONE_USE         1584214\n",
       "dtype: int64"
      ]
     },
     "execution_count": 97,
     "metadata": {},
     "output_type": "execute_result"
    }
   ],
   "source": [
    "#Missing values\n",
    "df_People_clean.isna().sum()"
   ]
  },
  {
   "attachments": {},
   "cell_type": "markdown",
   "metadata": {},
   "source": [
    "From this we can see that we have columns missing more than 1.5 million rows which translated to over 87% of the data. The rows are PEDPEDAL_ACTION, PEDPEDAL_VISIBILITY, BAC_RESULT VALUE, CELL_PHONE_USE."
   ]
  },
  {
   "cell_type": "code",
   "execution_count": 98,
   "metadata": {},
   "outputs": [],
   "source": [
    "# Identifying the columns to drop\n",
    "columns_missing_2 = ['PEDPEDAL_ACTION', 'PEDPEDAL_VISIBILITY', 'BAC_RESULT VALUE', 'CELL_PHONE_USE']\n",
    "\n",
    "\n",
    "# Calling the function to drop missing values columns\n",
    "df_People_clean = drop_missing(df_People_clean,columns_missing_2)"
   ]
  },
  {
   "cell_type": "code",
   "execution_count": 99,
   "metadata": {},
   "outputs": [
    {
     "data": {
      "text/plain": [
       "PERSON_TYPE                0\n",
       "CRASH_RECORD_ID            0\n",
       "VEHICLE_ID             31009\n",
       "SEX                    25179\n",
       "AGE                   461584\n",
       "DRIVER_ACTION         323587\n",
       "DRIVER_VISION         324040\n",
       "PHYSICAL_CONDITION    322708\n",
       "dtype: int64"
      ]
     },
     "execution_count": 99,
     "metadata": {},
     "output_type": "execute_result"
    }
   ],
   "source": [
    "df_People_clean.isna().sum()"
   ]
  },
  {
   "attachments": {},
   "cell_type": "markdown",
   "metadata": {},
   "source": [
    "Definately thats not all since we only had two columns without missing data and therefore we can not rush to dropna the remaining missing values since equaly they are many. We will look up the value counts first."
   ]
  },
  {
   "cell_type": "code",
   "execution_count": 100,
   "metadata": {},
   "outputs": [
    {
     "data": {
      "text/plain": [
       "M    820006\n",
       "F    597132\n",
       "X    143055\n",
       "Name: SEX, dtype: int64"
      ]
     },
     "execution_count": 100,
     "metadata": {},
     "output_type": "execute_result"
    }
   ],
   "source": [
    "# Value_counts\n",
    "df_People_clean.SEX.value_counts()\n"
   ]
  },
  {
   "cell_type": "code",
   "execution_count": 106,
   "metadata": {},
   "outputs": [],
   "source": [
    "# remove x from sex and set age to positive values\n",
    "df_People_clean=df_People_clean[(df_People_clean['SEX'] != 'X')]\n",
    "df_People_clean=df_People_clean[(df_People_clean['AGE'] > 0 )]"
   ]
  },
  {
   "cell_type": "code",
   "execution_count": 107,
   "metadata": {},
   "outputs": [
    {
     "data": {
      "text/plain": [
       "DRIVER    892565\n",
       "Name: PERSON_TYPE, dtype: int64"
      ]
     },
     "execution_count": 107,
     "metadata": {},
     "output_type": "execute_result"
    }
   ],
   "source": [
    "#Person value count\n",
    "df_People_clean.PERSON_TYPE.value_counts()"
   ]
  },
  {
   "attachments": {},
   "cell_type": "markdown",
   "metadata": {},
   "source": [
    "We only want data to do with the drivers thus remove the others."
   ]
  },
  {
   "cell_type": "code",
   "execution_count": 108,
   "metadata": {},
   "outputs": [],
   "source": [
    "# selecting driver alone\n",
    "df_People_clean=df_People_clean[(df_People_clean['PERSON_TYPE'] == 'DRIVER')]"
   ]
  },
  {
   "attachments": {},
   "cell_type": "markdown",
   "metadata": {},
   "source": [
    "Having eliminated rows based on logic we will now look up the missing values."
   ]
  },
  {
   "cell_type": "code",
   "execution_count": 110,
   "metadata": {},
   "outputs": [
    {
     "data": {
      "text/plain": [
       "PERSON_TYPE             0\n",
       "CRASH_RECORD_ID         0\n",
       "VEHICLE_ID            397\n",
       "SEX                     0\n",
       "AGE                     0\n",
       "DRIVER_ACTION           0\n",
       "DRIVER_VISION           0\n",
       "PHYSICAL_CONDITION      0\n",
       "dtype: int64"
      ]
     },
     "execution_count": 110,
     "metadata": {},
     "output_type": "execute_result"
    }
   ],
   "source": [
    "#Missing values\n",
    "df_People_clean.isna().sum()"
   ]
  },
  {
   "attachments": {},
   "cell_type": "markdown",
   "metadata": {},
   "source": [
    "We now have a better data set and we will now drop the null values in the vihecle id column."
   ]
  },
  {
   "cell_type": "code",
   "execution_count": 111,
   "metadata": {},
   "outputs": [],
   "source": [
    "# Dropping the remaining rows of missing data\n",
    "df_People_clean.dropna(axis=0, inplace=True)"
   ]
  },
  {
   "cell_type": "code",
   "execution_count": 112,
   "metadata": {},
   "outputs": [
    {
     "data": {
      "text/plain": [
       "PERSON_TYPE           0\n",
       "CRASH_RECORD_ID       0\n",
       "VEHICLE_ID            0\n",
       "SEX                   0\n",
       "AGE                   0\n",
       "DRIVER_ACTION         0\n",
       "DRIVER_VISION         0\n",
       "PHYSICAL_CONDITION    0\n",
       "dtype: int64"
      ]
     },
     "execution_count": 112,
     "metadata": {},
     "output_type": "execute_result"
    }
   ],
   "source": [
    "#Missing values\n",
    "df_People_clean.isna().sum()"
   ]
  },
  {
   "cell_type": "code",
   "execution_count": 114,
   "metadata": {},
   "outputs": [
    {
     "data": {
      "text/plain": [
       "(892168, 8)"
      ]
     },
     "execution_count": 114,
     "metadata": {},
     "output_type": "execute_result"
    }
   ],
   "source": [
    "#shape of our remaining data\n",
    "df_People_clean.shape"
   ]
  },
  {
   "attachments": {},
   "cell_type": "markdown",
   "metadata": {},
   "source": [
    "##### 3. Vehicles data cleaning "
   ]
  },
  {
   "attachments": {},
   "cell_type": "markdown",
   "metadata": {},
   "source": [
    "Similarly we will clean this data set to obtain a useful dataset for our modelling."
   ]
  },
  {
   "cell_type": "code",
   "execution_count": 116,
   "metadata": {},
   "outputs": [
    {
     "data": {
      "text/html": [
       "<div>\n",
       "<style scoped>\n",
       "    .dataframe tbody tr th:only-of-type {\n",
       "        vertical-align: middle;\n",
       "    }\n",
       "\n",
       "    .dataframe tbody tr th {\n",
       "        vertical-align: top;\n",
       "    }\n",
       "\n",
       "    .dataframe thead th {\n",
       "        text-align: right;\n",
       "    }\n",
       "</style>\n",
       "<table border=\"1\" class=\"dataframe\">\n",
       "  <thead>\n",
       "    <tr style=\"text-align: right;\">\n",
       "      <th></th>\n",
       "      <th>CRASH_UNIT_ID</th>\n",
       "      <th>CRASH_RECORD_ID</th>\n",
       "      <th>RD_NO</th>\n",
       "      <th>CRASH_DATE</th>\n",
       "      <th>UNIT_NO</th>\n",
       "      <th>UNIT_TYPE</th>\n",
       "      <th>NUM_PASSENGERS</th>\n",
       "      <th>VEHICLE_ID</th>\n",
       "      <th>CMRC_VEH_I</th>\n",
       "      <th>MAKE</th>\n",
       "      <th>...</th>\n",
       "      <th>TRAILER1_LENGTH</th>\n",
       "      <th>TRAILER2_LENGTH</th>\n",
       "      <th>TOTAL_VEHICLE_LENGTH</th>\n",
       "      <th>AXLE_CNT</th>\n",
       "      <th>VEHICLE_CONFIG</th>\n",
       "      <th>CARGO_BODY_TYPE</th>\n",
       "      <th>LOAD_TYPE</th>\n",
       "      <th>HAZMAT_OUT_OF_SERVICE_I</th>\n",
       "      <th>MCS_OUT_OF_SERVICE_I</th>\n",
       "      <th>HAZMAT_CLASS</th>\n",
       "    </tr>\n",
       "  </thead>\n",
       "  <tbody>\n",
       "    <tr>\n",
       "      <th>0</th>\n",
       "      <td>1554880</td>\n",
       "      <td>91a5d08b2b701f2d37cbb52ecdbeb09579bc7f2ebc60b3...</td>\n",
       "      <td>JG223284</td>\n",
       "      <td>04/14/2023 02:05:00 PM</td>\n",
       "      <td>1</td>\n",
       "      <td>DRIVER</td>\n",
       "      <td>NaN</td>\n",
       "      <td>1478881.0</td>\n",
       "      <td>NaN</td>\n",
       "      <td>FORD</td>\n",
       "      <td>...</td>\n",
       "      <td>NaN</td>\n",
       "      <td>NaN</td>\n",
       "      <td>NaN</td>\n",
       "      <td>NaN</td>\n",
       "      <td>NaN</td>\n",
       "      <td>NaN</td>\n",
       "      <td>NaN</td>\n",
       "      <td>NaN</td>\n",
       "      <td>NaN</td>\n",
       "      <td>NaN</td>\n",
       "    </tr>\n",
       "    <tr>\n",
       "      <th>1</th>\n",
       "      <td>749947</td>\n",
       "      <td>81dc0de2ed92aa62baccab641fa377be7feb1cc47e6554...</td>\n",
       "      <td>JC451435</td>\n",
       "      <td>09/28/2019 03:30:00 AM</td>\n",
       "      <td>1</td>\n",
       "      <td>DRIVER</td>\n",
       "      <td>NaN</td>\n",
       "      <td>834816.0</td>\n",
       "      <td>NaN</td>\n",
       "      <td>HONDA</td>\n",
       "      <td>...</td>\n",
       "      <td>NaN</td>\n",
       "      <td>NaN</td>\n",
       "      <td>NaN</td>\n",
       "      <td>NaN</td>\n",
       "      <td>NaN</td>\n",
       "      <td>NaN</td>\n",
       "      <td>NaN</td>\n",
       "      <td>NaN</td>\n",
       "      <td>NaN</td>\n",
       "      <td>NaN</td>\n",
       "    </tr>\n",
       "    <tr>\n",
       "      <th>2</th>\n",
       "      <td>749949</td>\n",
       "      <td>81dc0de2ed92aa62baccab641fa377be7feb1cc47e6554...</td>\n",
       "      <td>JC451435</td>\n",
       "      <td>09/28/2019 03:30:00 AM</td>\n",
       "      <td>2</td>\n",
       "      <td>PARKED</td>\n",
       "      <td>NaN</td>\n",
       "      <td>834819.0</td>\n",
       "      <td>NaN</td>\n",
       "      <td>TOYOTA</td>\n",
       "      <td>...</td>\n",
       "      <td>NaN</td>\n",
       "      <td>NaN</td>\n",
       "      <td>NaN</td>\n",
       "      <td>NaN</td>\n",
       "      <td>NaN</td>\n",
       "      <td>NaN</td>\n",
       "      <td>NaN</td>\n",
       "      <td>NaN</td>\n",
       "      <td>NaN</td>\n",
       "      <td>NaN</td>\n",
       "    </tr>\n",
       "    <tr>\n",
       "      <th>3</th>\n",
       "      <td>749950</td>\n",
       "      <td>81dc0de2ed92aa62baccab641fa377be7feb1cc47e6554...</td>\n",
       "      <td>JC451435</td>\n",
       "      <td>09/28/2019 03:30:00 AM</td>\n",
       "      <td>3</td>\n",
       "      <td>PARKED</td>\n",
       "      <td>NaN</td>\n",
       "      <td>834817.0</td>\n",
       "      <td>NaN</td>\n",
       "      <td>GENERAL MOTORS CORPORATION (GMC)</td>\n",
       "      <td>...</td>\n",
       "      <td>NaN</td>\n",
       "      <td>NaN</td>\n",
       "      <td>NaN</td>\n",
       "      <td>NaN</td>\n",
       "      <td>NaN</td>\n",
       "      <td>NaN</td>\n",
       "      <td>NaN</td>\n",
       "      <td>NaN</td>\n",
       "      <td>NaN</td>\n",
       "      <td>NaN</td>\n",
       "    </tr>\n",
       "    <tr>\n",
       "      <th>4</th>\n",
       "      <td>1554881</td>\n",
       "      <td>91a5d08b2b701f2d37cbb52ecdbeb09579bc7f2ebc60b3...</td>\n",
       "      <td>JG223284</td>\n",
       "      <td>04/14/2023 02:05:00 PM</td>\n",
       "      <td>2</td>\n",
       "      <td>DRIVER</td>\n",
       "      <td>1.0</td>\n",
       "      <td>1478892.0</td>\n",
       "      <td>NaN</td>\n",
       "      <td>ISUZU</td>\n",
       "      <td>...</td>\n",
       "      <td>NaN</td>\n",
       "      <td>NaN</td>\n",
       "      <td>NaN</td>\n",
       "      <td>NaN</td>\n",
       "      <td>NaN</td>\n",
       "      <td>NaN</td>\n",
       "      <td>NaN</td>\n",
       "      <td>NaN</td>\n",
       "      <td>NaN</td>\n",
       "      <td>NaN</td>\n",
       "    </tr>\n",
       "  </tbody>\n",
       "</table>\n",
       "<p>5 rows × 72 columns</p>\n",
       "</div>"
      ],
      "text/plain": [
       "   CRASH_UNIT_ID                                    CRASH_RECORD_ID     RD_NO  \\\n",
       "0        1554880  91a5d08b2b701f2d37cbb52ecdbeb09579bc7f2ebc60b3...  JG223284   \n",
       "1         749947  81dc0de2ed92aa62baccab641fa377be7feb1cc47e6554...  JC451435   \n",
       "2         749949  81dc0de2ed92aa62baccab641fa377be7feb1cc47e6554...  JC451435   \n",
       "3         749950  81dc0de2ed92aa62baccab641fa377be7feb1cc47e6554...  JC451435   \n",
       "4        1554881  91a5d08b2b701f2d37cbb52ecdbeb09579bc7f2ebc60b3...  JG223284   \n",
       "\n",
       "               CRASH_DATE UNIT_NO UNIT_TYPE  NUM_PASSENGERS  VEHICLE_ID  \\\n",
       "0  04/14/2023 02:05:00 PM       1    DRIVER             NaN   1478881.0   \n",
       "1  09/28/2019 03:30:00 AM       1    DRIVER             NaN    834816.0   \n",
       "2  09/28/2019 03:30:00 AM       2    PARKED             NaN    834819.0   \n",
       "3  09/28/2019 03:30:00 AM       3    PARKED             NaN    834817.0   \n",
       "4  04/14/2023 02:05:00 PM       2    DRIVER             1.0   1478892.0   \n",
       "\n",
       "  CMRC_VEH_I                              MAKE  ... TRAILER1_LENGTH  \\\n",
       "0        NaN                              FORD  ...             NaN   \n",
       "1        NaN                             HONDA  ...             NaN   \n",
       "2        NaN                            TOYOTA  ...             NaN   \n",
       "3        NaN  GENERAL MOTORS CORPORATION (GMC)  ...             NaN   \n",
       "4        NaN                             ISUZU  ...             NaN   \n",
       "\n",
       "  TRAILER2_LENGTH  TOTAL_VEHICLE_LENGTH AXLE_CNT VEHICLE_CONFIG  \\\n",
       "0             NaN                   NaN      NaN            NaN   \n",
       "1             NaN                   NaN      NaN            NaN   \n",
       "2             NaN                   NaN      NaN            NaN   \n",
       "3             NaN                   NaN      NaN            NaN   \n",
       "4             NaN                   NaN      NaN            NaN   \n",
       "\n",
       "  CARGO_BODY_TYPE LOAD_TYPE HAZMAT_OUT_OF_SERVICE_I MCS_OUT_OF_SERVICE_I  \\\n",
       "0             NaN       NaN                     NaN                  NaN   \n",
       "1             NaN       NaN                     NaN                  NaN   \n",
       "2             NaN       NaN                     NaN                  NaN   \n",
       "3             NaN       NaN                     NaN                  NaN   \n",
       "4             NaN       NaN                     NaN                  NaN   \n",
       "\n",
       "  HAZMAT_CLASS  \n",
       "0          NaN  \n",
       "1          NaN  \n",
       "2          NaN  \n",
       "3          NaN  \n",
       "4          NaN  \n",
       "\n",
       "[5 rows x 72 columns]"
      ]
     },
     "execution_count": 116,
     "metadata": {},
     "output_type": "execute_result"
    }
   ],
   "source": [
    "# first five rows\n",
    "df_Vehicles.head()"
   ]
  },
  {
   "attachments": {},
   "cell_type": "markdown",
   "metadata": {},
   "source": [
    "72 columns!!! Thats a huge dataset which definately requires dropping of some columns which contain general information before we proceed to handling missing data."
   ]
  },
  {
   "cell_type": "code",
   "execution_count": 118,
   "metadata": {},
   "outputs": [],
   "source": [
    "# Dropping columns that we do not require\n",
    "columns_to_ignore_3 = ['NUM_PASSENGERS', 'MAKE', 'MODEL', 'VEHICLE_YEAR', 'CMRC_VEH_I','LIC_PLATE_STATE','TOWED_I', 'FIRE_I', 'OCCUPANT_CNT', 'TOWED_BY','TOWED_TO', 'AREA_00_I', 'AREA_01_I', 'AREA_02_I', 'AREA_03_I','AREA_04_I', 'AREA_05_I', 'AREA_06_I', 'AREA_07_I', 'AREA_08_I','AREA_09_I', 'AREA_10_I', 'AREA_11_I', 'AREA_12_I', 'AREA_99_I','CMV_ID', 'USDOT_NO', 'CCMC_NO', 'ILCC_NO','COMMERCIAL_SRC', 'GVWR', 'CARRIER_NAME', 'CARRIER_STATE','CARRIER_CITY', 'HAZMAT_PLACARDS_I', 'HAZMAT_NAME', 'UN_NO','HAZMAT_PRESENT_I', 'HAZMAT_REPORT_I', 'HAZMAT_REPORT_NO','MCS_REPORT_I', 'MCS_REPORT_NO', 'HAZMAT_VIO_CAUSE_CRASH_I','MCS_VIO_CAUSE_CRASH_I', \n",
    "                       'IDOT_PERMIT_NO', 'WIDE_LOAD_I','MCS_OUT_OF_SERVICE_I', 'HAZMAT_CLASS','TRAILER1_WIDTH', 'TRAILER2_WIDTH','CRASH_UNIT_ID', 'RD_NO', 'CRASH_DATE', \n",
    "                       'TRAILER1_LENGTH','TRAILER2_LENGTH', 'TOTAL_VEHICLE_LENGTH', 'AXLE_CNT', 'VEHICLE_CONFIG','CARGO_BODY_TYPE', 'LOAD_TYPE', 'HAZMAT_OUT_OF_SERVICE_I'\n",
    "                       ]\n",
    "df_Vehicles_clean = ignore(df_Vehicles,columns_to_ignore_3)"
   ]
  },
  {
   "cell_type": "code",
   "execution_count": 119,
   "metadata": {},
   "outputs": [
    {
     "data": {
      "text/plain": [
       "CRASH_RECORD_ID               0\n",
       "UNIT_NO                       0\n",
       "UNIT_TYPE                  2008\n",
       "VEHICLE_ID                33157\n",
       "VEHICLE_DEFECT            33157\n",
       "VEHICLE_TYPE              33157\n",
       "VEHICLE_USE               33157\n",
       "TRAVEL_DIRECTION          33157\n",
       "MANEUVER                  33157\n",
       "EXCEED_SPEED_LIMIT_I    1471104\n",
       "FIRST_CONTACT_POINT       36241\n",
       "dtype: int64"
      ]
     },
     "execution_count": 119,
     "metadata": {},
     "output_type": "execute_result"
    }
   ],
   "source": [
    "#checking for null values\n",
    "df_Vehicles_clean.isna().sum()"
   ]
  },
  {
   "attachments": {},
   "cell_type": "markdown",
   "metadata": {},
   "source": [
    "What we have left is a smaller dataset with some missing values which require attention. We will have to do away with the column exceed speed limit which has so many missing values."
   ]
  },
  {
   "cell_type": "code",
   "execution_count": 120,
   "metadata": {},
   "outputs": [],
   "source": [
    "# column to drop\n",
    "columnss = ['EXCEED_SPEED_LIMIT_I']\n",
    "# call function to drop missing values\n",
    "df_Vehicles_clean = drop_missing(df_Vehicles_clean,columnss)"
   ]
  },
  {
   "attachments": {},
   "cell_type": "markdown",
   "metadata": {},
   "source": [
    "We have six columns with the same amount of missing values and therefore since they contribute to a small percentage of the data we will drop the missing rows of data."
   ]
  },
  {
   "cell_type": "code",
   "execution_count": 123,
   "metadata": {},
   "outputs": [],
   "source": [
    "#droping null values\n",
    "df_Vehicles_clean.dropna(axis=0, inplace=True)"
   ]
  },
  {
   "attachments": {},
   "cell_type": "markdown",
   "metadata": {},
   "source": [
    "We now have three clean data sets and for our modelling we will require to merge then into one data set using common columns between them."
   ]
  },
  {
   "attachments": {},
   "cell_type": "markdown",
   "metadata": {},
   "source": [
    "#### Merging the datasets"
   ]
  },
  {
   "attachments": {},
   "cell_type": "markdown",
   "metadata": {},
   "source": [
    "We will now perfom inner joins between the datasets to have one dataset all together. The Vehicle and people datasets will be merged using the common column vihecle id and the merged datasets will further be merged to crashes dataset using crash record id."
   ]
  },
  {
   "cell_type": "code",
   "execution_count": 128,
   "metadata": {},
   "outputs": [],
   "source": [
    "# First merger\n",
    "df_Vih_Pep = pd.merge(df_People_clean, df_Vehicles_clean, on=['VEHICLE_ID'], how = 'inner')\n"
   ]
  },
  {
   "cell_type": "code",
   "execution_count": 129,
   "metadata": {},
   "outputs": [
    {
     "data": {
      "text/html": [
       "<div>\n",
       "<style scoped>\n",
       "    .dataframe tbody tr th:only-of-type {\n",
       "        vertical-align: middle;\n",
       "    }\n",
       "\n",
       "    .dataframe tbody tr th {\n",
       "        vertical-align: top;\n",
       "    }\n",
       "\n",
       "    .dataframe thead th {\n",
       "        text-align: right;\n",
       "    }\n",
       "</style>\n",
       "<table border=\"1\" class=\"dataframe\">\n",
       "  <thead>\n",
       "    <tr style=\"text-align: right;\">\n",
       "      <th></th>\n",
       "      <th>PERSON_TYPE</th>\n",
       "      <th>CRASH_RECORD_ID_x</th>\n",
       "      <th>VEHICLE_ID</th>\n",
       "      <th>SEX</th>\n",
       "      <th>AGE</th>\n",
       "      <th>DRIVER_ACTION</th>\n",
       "      <th>DRIVER_VISION</th>\n",
       "      <th>PHYSICAL_CONDITION</th>\n",
       "      <th>CRASH_RECORD_ID_y</th>\n",
       "      <th>UNIT_NO</th>\n",
       "      <th>UNIT_TYPE</th>\n",
       "      <th>VEHICLE_DEFECT</th>\n",
       "      <th>VEHICLE_TYPE</th>\n",
       "      <th>VEHICLE_USE</th>\n",
       "      <th>TRAVEL_DIRECTION</th>\n",
       "      <th>MANEUVER</th>\n",
       "      <th>FIRST_CONTACT_POINT</th>\n",
       "    </tr>\n",
       "  </thead>\n",
       "  <tbody>\n",
       "    <tr>\n",
       "      <th>0</th>\n",
       "      <td>DRIVER</td>\n",
       "      <td>81dc0de2ed92aa62baccab641fa377be7feb1cc47e6554...</td>\n",
       "      <td>834816.0</td>\n",
       "      <td>M</td>\n",
       "      <td>25.0</td>\n",
       "      <td>UNKNOWN</td>\n",
       "      <td>UNKNOWN</td>\n",
       "      <td>UNKNOWN</td>\n",
       "      <td>81dc0de2ed92aa62baccab641fa377be7feb1cc47e6554...</td>\n",
       "      <td>1</td>\n",
       "      <td>DRIVER</td>\n",
       "      <td>UNKNOWN</td>\n",
       "      <td>PASSENGER</td>\n",
       "      <td>PERSONAL</td>\n",
       "      <td>N</td>\n",
       "      <td>STRAIGHT AHEAD</td>\n",
       "      <td>FRONT</td>\n",
       "    </tr>\n",
       "    <tr>\n",
       "      <th>1</th>\n",
       "      <td>DRIVER</td>\n",
       "      <td>af84fb5c8d996fcd3aefd36593c3a02e6e7509eeb27568...</td>\n",
       "      <td>827212.0</td>\n",
       "      <td>M</td>\n",
       "      <td>37.0</td>\n",
       "      <td>NONE</td>\n",
       "      <td>NOT OBSCURED</td>\n",
       "      <td>NORMAL</td>\n",
       "      <td>af84fb5c8d996fcd3aefd36593c3a02e6e7509eeb27568...</td>\n",
       "      <td>2</td>\n",
       "      <td>DRIVER</td>\n",
       "      <td>NONE</td>\n",
       "      <td>PASSENGER</td>\n",
       "      <td>PERSONAL</td>\n",
       "      <td>W</td>\n",
       "      <td>STRAIGHT AHEAD</td>\n",
       "      <td>SIDE-RIGHT-FRONT</td>\n",
       "    </tr>\n",
       "    <tr>\n",
       "      <th>2</th>\n",
       "      <td>DRIVER</td>\n",
       "      <td>f25f09798b51603bde602ded37fea826fc8b7f962fc3b0...</td>\n",
       "      <td>805348.0</td>\n",
       "      <td>F</td>\n",
       "      <td>34.0</td>\n",
       "      <td>UNKNOWN</td>\n",
       "      <td>NOT OBSCURED</td>\n",
       "      <td>NORMAL</td>\n",
       "      <td>f25f09798b51603bde602ded37fea826fc8b7f962fc3b0...</td>\n",
       "      <td>1</td>\n",
       "      <td>DRIVER</td>\n",
       "      <td>UNKNOWN</td>\n",
       "      <td>PASSENGER</td>\n",
       "      <td>PERSONAL</td>\n",
       "      <td>NE</td>\n",
       "      <td>MERGING</td>\n",
       "      <td>FRONT-LEFT-CORNER</td>\n",
       "    </tr>\n",
       "    <tr>\n",
       "      <th>3</th>\n",
       "      <td>DRIVER</td>\n",
       "      <td>e9146986f4b0884d00ff3a54da5249263b4b36c15d01ce...</td>\n",
       "      <td>832624.0</td>\n",
       "      <td>M</td>\n",
       "      <td>53.0</td>\n",
       "      <td>UNKNOWN</td>\n",
       "      <td>UNKNOWN</td>\n",
       "      <td>NORMAL</td>\n",
       "      <td>e9146986f4b0884d00ff3a54da5249263b4b36c15d01ce...</td>\n",
       "      <td>1</td>\n",
       "      <td>DRIVER</td>\n",
       "      <td>UNKNOWN</td>\n",
       "      <td>BUS OVER 15 PASS.</td>\n",
       "      <td>CTA</td>\n",
       "      <td>E</td>\n",
       "      <td>TURNING LEFT</td>\n",
       "      <td>SIDE-LEFT</td>\n",
       "    </tr>\n",
       "    <tr>\n",
       "      <th>4</th>\n",
       "      <td>DRIVER</td>\n",
       "      <td>f15ccbd94a8e29ce8424882ce93061d4e1d0deb214acfe...</td>\n",
       "      <td>833984.0</td>\n",
       "      <td>M</td>\n",
       "      <td>65.0</td>\n",
       "      <td>UNKNOWN</td>\n",
       "      <td>UNKNOWN</td>\n",
       "      <td>NORMAL</td>\n",
       "      <td>f15ccbd94a8e29ce8424882ce93061d4e1d0deb214acfe...</td>\n",
       "      <td>1</td>\n",
       "      <td>DRIVER</td>\n",
       "      <td>UNKNOWN</td>\n",
       "      <td>PASSENGER</td>\n",
       "      <td>PERSONAL</td>\n",
       "      <td>S</td>\n",
       "      <td>STRAIGHT AHEAD</td>\n",
       "      <td>FRONT-RIGHT-CORNER</td>\n",
       "    </tr>\n",
       "  </tbody>\n",
       "</table>\n",
       "</div>"
      ],
      "text/plain": [
       "  PERSON_TYPE                                  CRASH_RECORD_ID_x  VEHICLE_ID  \\\n",
       "0      DRIVER  81dc0de2ed92aa62baccab641fa377be7feb1cc47e6554...    834816.0   \n",
       "1      DRIVER  af84fb5c8d996fcd3aefd36593c3a02e6e7509eeb27568...    827212.0   \n",
       "2      DRIVER  f25f09798b51603bde602ded37fea826fc8b7f962fc3b0...    805348.0   \n",
       "3      DRIVER  e9146986f4b0884d00ff3a54da5249263b4b36c15d01ce...    832624.0   \n",
       "4      DRIVER  f15ccbd94a8e29ce8424882ce93061d4e1d0deb214acfe...    833984.0   \n",
       "\n",
       "  SEX   AGE DRIVER_ACTION DRIVER_VISION PHYSICAL_CONDITION  \\\n",
       "0   M  25.0       UNKNOWN       UNKNOWN            UNKNOWN   \n",
       "1   M  37.0          NONE  NOT OBSCURED             NORMAL   \n",
       "2   F  34.0       UNKNOWN  NOT OBSCURED             NORMAL   \n",
       "3   M  53.0       UNKNOWN       UNKNOWN             NORMAL   \n",
       "4   M  65.0       UNKNOWN       UNKNOWN             NORMAL   \n",
       "\n",
       "                                   CRASH_RECORD_ID_y UNIT_NO UNIT_TYPE  \\\n",
       "0  81dc0de2ed92aa62baccab641fa377be7feb1cc47e6554...       1    DRIVER   \n",
       "1  af84fb5c8d996fcd3aefd36593c3a02e6e7509eeb27568...       2    DRIVER   \n",
       "2  f25f09798b51603bde602ded37fea826fc8b7f962fc3b0...       1    DRIVER   \n",
       "3  e9146986f4b0884d00ff3a54da5249263b4b36c15d01ce...       1    DRIVER   \n",
       "4  f15ccbd94a8e29ce8424882ce93061d4e1d0deb214acfe...       1    DRIVER   \n",
       "\n",
       "  VEHICLE_DEFECT       VEHICLE_TYPE VEHICLE_USE TRAVEL_DIRECTION  \\\n",
       "0        UNKNOWN          PASSENGER    PERSONAL                N   \n",
       "1           NONE          PASSENGER    PERSONAL                W   \n",
       "2        UNKNOWN          PASSENGER    PERSONAL               NE   \n",
       "3        UNKNOWN  BUS OVER 15 PASS.         CTA                E   \n",
       "4        UNKNOWN          PASSENGER    PERSONAL                S   \n",
       "\n",
       "         MANEUVER FIRST_CONTACT_POINT  \n",
       "0  STRAIGHT AHEAD               FRONT  \n",
       "1  STRAIGHT AHEAD    SIDE-RIGHT-FRONT  \n",
       "2         MERGING   FRONT-LEFT-CORNER  \n",
       "3    TURNING LEFT           SIDE-LEFT  \n",
       "4  STRAIGHT AHEAD  FRONT-RIGHT-CORNER  "
      ]
     },
     "execution_count": 129,
     "metadata": {},
     "output_type": "execute_result"
    }
   ],
   "source": [
    "#first five columns\n",
    "df_Vih_Pep.head()"
   ]
  },
  {
   "cell_type": "code",
   "execution_count": 130,
   "metadata": {},
   "outputs": [
    {
     "data": {
      "text/html": [
       "<div>\n",
       "<style scoped>\n",
       "    .dataframe tbody tr th:only-of-type {\n",
       "        vertical-align: middle;\n",
       "    }\n",
       "\n",
       "    .dataframe tbody tr th {\n",
       "        vertical-align: top;\n",
       "    }\n",
       "\n",
       "    .dataframe thead th {\n",
       "        text-align: right;\n",
       "    }\n",
       "</style>\n",
       "<table border=\"1\" class=\"dataframe\">\n",
       "  <thead>\n",
       "    <tr style=\"text-align: right;\">\n",
       "      <th></th>\n",
       "      <th>CRASH_RECORD_ID</th>\n",
       "      <th>POSTED_SPEED_LIMIT</th>\n",
       "      <th>TRAFFIC_CONTROL_DEVICE</th>\n",
       "      <th>DEVICE_CONDITION</th>\n",
       "      <th>WEATHER_CONDITION</th>\n",
       "      <th>LIGHTING_CONDITION</th>\n",
       "      <th>FIRST_CRASH_TYPE</th>\n",
       "      <th>TRAFFICWAY_TYPE</th>\n",
       "      <th>ALIGNMENT</th>\n",
       "      <th>ROADWAY_SURFACE_COND</th>\n",
       "      <th>...</th>\n",
       "      <th>CRASH_TYPE</th>\n",
       "      <th>DAMAGE</th>\n",
       "      <th>PRIM_CONTRIBUTORY_CAUSE</th>\n",
       "      <th>NUM_UNITS</th>\n",
       "      <th>CRASH_HOUR</th>\n",
       "      <th>CRASH_DAY_OF_WEEK</th>\n",
       "      <th>CRASH_MONTH</th>\n",
       "      <th>LATITUDE</th>\n",
       "      <th>LONGITUDE</th>\n",
       "      <th>LOCATION</th>\n",
       "    </tr>\n",
       "  </thead>\n",
       "  <tbody>\n",
       "    <tr>\n",
       "      <th>0</th>\n",
       "      <td>79c7a2ce89f446262efd86df3d72d18b04ba487024b7c4...</td>\n",
       "      <td>30</td>\n",
       "      <td>TRAFFIC SIGNAL</td>\n",
       "      <td>FUNCTIONING PROPERLY</td>\n",
       "      <td>CLEAR</td>\n",
       "      <td>DAYLIGHT</td>\n",
       "      <td>TURNING</td>\n",
       "      <td>ONE-WAY</td>\n",
       "      <td>STRAIGHT AND LEVEL</td>\n",
       "      <td>DRY</td>\n",
       "      <td>...</td>\n",
       "      <td>INJURY AND / OR TOW DUE TO CRASH</td>\n",
       "      <td>OVER $1,500</td>\n",
       "      <td>IMPROPER TURNING/NO SIGNAL</td>\n",
       "      <td>2</td>\n",
       "      <td>14</td>\n",
       "      <td>2</td>\n",
       "      <td>3</td>\n",
       "      <td>41.884547</td>\n",
       "      <td>-87.641201</td>\n",
       "      <td>POINT (-87.64120093714 41.884547224337)</td>\n",
       "    </tr>\n",
       "    <tr>\n",
       "      <th>1</th>\n",
       "      <td>792b539deaaad65ee5b4a9691d927a34d298eb33d42af0...</td>\n",
       "      <td>30</td>\n",
       "      <td>NO CONTROLS</td>\n",
       "      <td>NO CONTROLS</td>\n",
       "      <td>CLEAR</td>\n",
       "      <td>DAYLIGHT</td>\n",
       "      <td>ANGLE</td>\n",
       "      <td>NOT DIVIDED</td>\n",
       "      <td>STRAIGHT AND LEVEL</td>\n",
       "      <td>DRY</td>\n",
       "      <td>...</td>\n",
       "      <td>NO INJURY / DRIVE AWAY</td>\n",
       "      <td>OVER $1,500</td>\n",
       "      <td>VISION OBSCURED (SIGNS, TREE LIMBS, BUILDINGS,...</td>\n",
       "      <td>2</td>\n",
       "      <td>8</td>\n",
       "      <td>4</td>\n",
       "      <td>9</td>\n",
       "      <td>41.968562</td>\n",
       "      <td>-87.740659</td>\n",
       "      <td>POINT (-87.740659314632 41.968562453871)</td>\n",
       "    </tr>\n",
       "    <tr>\n",
       "      <th>3</th>\n",
       "      <td>05b1982cdba5d8a00e7e76ad1ecdab0e598429f78481d2...</td>\n",
       "      <td>30</td>\n",
       "      <td>TRAFFIC SIGNAL</td>\n",
       "      <td>FUNCTIONING PROPERLY</td>\n",
       "      <td>CLEAR</td>\n",
       "      <td>DAYLIGHT</td>\n",
       "      <td>REAR END</td>\n",
       "      <td>FOUR WAY</td>\n",
       "      <td>STRAIGHT AND LEVEL</td>\n",
       "      <td>DRY</td>\n",
       "      <td>...</td>\n",
       "      <td>NO INJURY / DRIVE AWAY</td>\n",
       "      <td>$501 - $1,500</td>\n",
       "      <td>DISREGARDING TRAFFIC SIGNALS</td>\n",
       "      <td>2</td>\n",
       "      <td>11</td>\n",
       "      <td>2</td>\n",
       "      <td>8</td>\n",
       "      <td>41.749348</td>\n",
       "      <td>-87.721097</td>\n",
       "      <td>POINT (-87.721096727406 41.749348170421)</td>\n",
       "    </tr>\n",
       "    <tr>\n",
       "      <th>7</th>\n",
       "      <td>01aaa759c6bbefd0f584226fbd88bdc549de3ed1e46255...</td>\n",
       "      <td>40</td>\n",
       "      <td>NO CONTROLS</td>\n",
       "      <td>NO CONTROLS</td>\n",
       "      <td>CLOUDY/OVERCAST</td>\n",
       "      <td>DAYLIGHT</td>\n",
       "      <td>ANGLE</td>\n",
       "      <td>DIVIDED - W/MEDIAN BARRIER</td>\n",
       "      <td>STRAIGHT AND LEVEL</td>\n",
       "      <td>DRY</td>\n",
       "      <td>...</td>\n",
       "      <td>NO INJURY / DRIVE AWAY</td>\n",
       "      <td>OVER $1,500</td>\n",
       "      <td>IMPROPER LANE USAGE</td>\n",
       "      <td>2</td>\n",
       "      <td>17</td>\n",
       "      <td>6</td>\n",
       "      <td>7</td>\n",
       "      <td>41.975826</td>\n",
       "      <td>-87.650420</td>\n",
       "      <td>POINT (-87.650419778017 41.975826016449)</td>\n",
       "    </tr>\n",
       "    <tr>\n",
       "      <th>10</th>\n",
       "      <td>7b4700df143a2170b338fdf28c3ccb7c3aaa4527b0734e...</td>\n",
       "      <td>30</td>\n",
       "      <td>TRAFFIC SIGNAL</td>\n",
       "      <td>FUNCTIONING PROPERLY</td>\n",
       "      <td>SNOW</td>\n",
       "      <td>DAYLIGHT</td>\n",
       "      <td>ANGLE</td>\n",
       "      <td>NOT DIVIDED</td>\n",
       "      <td>STRAIGHT AND LEVEL</td>\n",
       "      <td>SNOW OR SLUSH</td>\n",
       "      <td>...</td>\n",
       "      <td>NO INJURY / DRIVE AWAY</td>\n",
       "      <td>OVER $1,500</td>\n",
       "      <td>WEATHER</td>\n",
       "      <td>2</td>\n",
       "      <td>10</td>\n",
       "      <td>2</td>\n",
       "      <td>11</td>\n",
       "      <td>41.744152</td>\n",
       "      <td>-87.585945</td>\n",
       "      <td>POINT (-87.585945066953 41.744151639042)</td>\n",
       "    </tr>\n",
       "  </tbody>\n",
       "</table>\n",
       "<p>5 rows × 21 columns</p>\n",
       "</div>"
      ],
      "text/plain": [
       "                                      CRASH_RECORD_ID  POSTED_SPEED_LIMIT  \\\n",
       "0   79c7a2ce89f446262efd86df3d72d18b04ba487024b7c4...                  30   \n",
       "1   792b539deaaad65ee5b4a9691d927a34d298eb33d42af0...                  30   \n",
       "3   05b1982cdba5d8a00e7e76ad1ecdab0e598429f78481d2...                  30   \n",
       "7   01aaa759c6bbefd0f584226fbd88bdc549de3ed1e46255...                  40   \n",
       "10  7b4700df143a2170b338fdf28c3ccb7c3aaa4527b0734e...                  30   \n",
       "\n",
       "   TRAFFIC_CONTROL_DEVICE      DEVICE_CONDITION WEATHER_CONDITION  \\\n",
       "0          TRAFFIC SIGNAL  FUNCTIONING PROPERLY             CLEAR   \n",
       "1             NO CONTROLS           NO CONTROLS             CLEAR   \n",
       "3          TRAFFIC SIGNAL  FUNCTIONING PROPERLY             CLEAR   \n",
       "7             NO CONTROLS           NO CONTROLS   CLOUDY/OVERCAST   \n",
       "10         TRAFFIC SIGNAL  FUNCTIONING PROPERLY              SNOW   \n",
       "\n",
       "   LIGHTING_CONDITION FIRST_CRASH_TYPE             TRAFFICWAY_TYPE  \\\n",
       "0            DAYLIGHT          TURNING                     ONE-WAY   \n",
       "1            DAYLIGHT            ANGLE                 NOT DIVIDED   \n",
       "3            DAYLIGHT         REAR END                    FOUR WAY   \n",
       "7            DAYLIGHT            ANGLE  DIVIDED - W/MEDIAN BARRIER   \n",
       "10           DAYLIGHT            ANGLE                 NOT DIVIDED   \n",
       "\n",
       "             ALIGNMENT ROADWAY_SURFACE_COND  ...  \\\n",
       "0   STRAIGHT AND LEVEL                  DRY  ...   \n",
       "1   STRAIGHT AND LEVEL                  DRY  ...   \n",
       "3   STRAIGHT AND LEVEL                  DRY  ...   \n",
       "7   STRAIGHT AND LEVEL                  DRY  ...   \n",
       "10  STRAIGHT AND LEVEL        SNOW OR SLUSH  ...   \n",
       "\n",
       "                          CRASH_TYPE         DAMAGE  \\\n",
       "0   INJURY AND / OR TOW DUE TO CRASH    OVER $1,500   \n",
       "1             NO INJURY / DRIVE AWAY    OVER $1,500   \n",
       "3             NO INJURY / DRIVE AWAY  $501 - $1,500   \n",
       "7             NO INJURY / DRIVE AWAY    OVER $1,500   \n",
       "10            NO INJURY / DRIVE AWAY    OVER $1,500   \n",
       "\n",
       "                              PRIM_CONTRIBUTORY_CAUSE NUM_UNITS  CRASH_HOUR  \\\n",
       "0                          IMPROPER TURNING/NO SIGNAL         2          14   \n",
       "1   VISION OBSCURED (SIGNS, TREE LIMBS, BUILDINGS,...         2           8   \n",
       "3                        DISREGARDING TRAFFIC SIGNALS         2          11   \n",
       "7                                 IMPROPER LANE USAGE         2          17   \n",
       "10                                            WEATHER         2          10   \n",
       "\n",
       "    CRASH_DAY_OF_WEEK  CRASH_MONTH   LATITUDE  LONGITUDE  \\\n",
       "0                   2            3  41.884547 -87.641201   \n",
       "1                   4            9  41.968562 -87.740659   \n",
       "3                   2            8  41.749348 -87.721097   \n",
       "7                   6            7  41.975826 -87.650420   \n",
       "10                  2           11  41.744152 -87.585945   \n",
       "\n",
       "                                    LOCATION  \n",
       "0    POINT (-87.64120093714 41.884547224337)  \n",
       "1   POINT (-87.740659314632 41.968562453871)  \n",
       "3   POINT (-87.721096727406 41.749348170421)  \n",
       "7   POINT (-87.650419778017 41.975826016449)  \n",
       "10  POINT (-87.585945066953 41.744151639042)  \n",
       "\n",
       "[5 rows x 21 columns]"
      ]
     },
     "execution_count": 130,
     "metadata": {},
     "output_type": "execute_result"
    }
   ],
   "source": [
    "# crashes first five columns\n",
    "df_crashes_clean.head()"
   ]
  },
  {
   "attachments": {},
   "cell_type": "markdown",
   "metadata": {},
   "source": [
    "We will need to rename the column on the first merger for the crashes Id so that we can now merge it to crashes dataset."
   ]
  },
  {
   "cell_type": "code",
   "execution_count": 131,
   "metadata": {},
   "outputs": [],
   "source": [
    "# Renaming a column\n",
    "df_Vih_Pep.rename(columns={'CRASH_RECORD_ID_x': 'CRASH_RECORD_ID'}, inplace=True)"
   ]
  },
  {
   "cell_type": "code",
   "execution_count": 133,
   "metadata": {},
   "outputs": [],
   "source": [
    "# Second merger\n",
    "df_combined = pd.merge(df_Vih_Pep, df_crashes_clean, on=['CRASH_RECORD_ID'], how='inner')"
   ]
  },
  {
   "cell_type": "code",
   "execution_count": 135,
   "metadata": {},
   "outputs": [
    {
     "data": {
      "text/html": [
       "<div>\n",
       "<style scoped>\n",
       "    .dataframe tbody tr th:only-of-type {\n",
       "        vertical-align: middle;\n",
       "    }\n",
       "\n",
       "    .dataframe tbody tr th {\n",
       "        vertical-align: top;\n",
       "    }\n",
       "\n",
       "    .dataframe thead th {\n",
       "        text-align: right;\n",
       "    }\n",
       "</style>\n",
       "<table border=\"1\" class=\"dataframe\">\n",
       "  <thead>\n",
       "    <tr style=\"text-align: right;\">\n",
       "      <th></th>\n",
       "      <th>PERSON_TYPE</th>\n",
       "      <th>CRASH_RECORD_ID</th>\n",
       "      <th>VEHICLE_ID</th>\n",
       "      <th>SEX</th>\n",
       "      <th>AGE</th>\n",
       "      <th>DRIVER_ACTION</th>\n",
       "      <th>DRIVER_VISION</th>\n",
       "      <th>PHYSICAL_CONDITION</th>\n",
       "      <th>CRASH_RECORD_ID_y</th>\n",
       "      <th>UNIT_NO</th>\n",
       "      <th>...</th>\n",
       "      <th>CRASH_TYPE</th>\n",
       "      <th>DAMAGE</th>\n",
       "      <th>PRIM_CONTRIBUTORY_CAUSE</th>\n",
       "      <th>NUM_UNITS</th>\n",
       "      <th>CRASH_HOUR</th>\n",
       "      <th>CRASH_DAY_OF_WEEK</th>\n",
       "      <th>CRASH_MONTH</th>\n",
       "      <th>LATITUDE</th>\n",
       "      <th>LONGITUDE</th>\n",
       "      <th>LOCATION</th>\n",
       "    </tr>\n",
       "  </thead>\n",
       "  <tbody>\n",
       "    <tr>\n",
       "      <th>0</th>\n",
       "      <td>DRIVER</td>\n",
       "      <td>af84fb5c8d996fcd3aefd36593c3a02e6e7509eeb27568...</td>\n",
       "      <td>827212.0</td>\n",
       "      <td>M</td>\n",
       "      <td>37.0</td>\n",
       "      <td>NONE</td>\n",
       "      <td>NOT OBSCURED</td>\n",
       "      <td>NORMAL</td>\n",
       "      <td>af84fb5c8d996fcd3aefd36593c3a02e6e7509eeb27568...</td>\n",
       "      <td>2</td>\n",
       "      <td>...</td>\n",
       "      <td>NO INJURY / DRIVE AWAY</td>\n",
       "      <td>$500 OR LESS</td>\n",
       "      <td>IMPROPER OVERTAKING/PASSING</td>\n",
       "      <td>2</td>\n",
       "      <td>22</td>\n",
       "      <td>2</td>\n",
       "      <td>4</td>\n",
       "      <td>41.736044</td>\n",
       "      <td>-87.653404</td>\n",
       "      <td>POINT (-87.653404241798 41.736044089544)</td>\n",
       "    </tr>\n",
       "    <tr>\n",
       "      <th>1</th>\n",
       "      <td>DRIVER</td>\n",
       "      <td>f25f09798b51603bde602ded37fea826fc8b7f962fc3b0...</td>\n",
       "      <td>805348.0</td>\n",
       "      <td>F</td>\n",
       "      <td>34.0</td>\n",
       "      <td>UNKNOWN</td>\n",
       "      <td>NOT OBSCURED</td>\n",
       "      <td>NORMAL</td>\n",
       "      <td>f25f09798b51603bde602ded37fea826fc8b7f962fc3b0...</td>\n",
       "      <td>1</td>\n",
       "      <td>...</td>\n",
       "      <td>NO INJURY / DRIVE AWAY</td>\n",
       "      <td>OVER $1,500</td>\n",
       "      <td>IMPROPER OVERTAKING/PASSING</td>\n",
       "      <td>2</td>\n",
       "      <td>18</td>\n",
       "      <td>1</td>\n",
       "      <td>2</td>\n",
       "      <td>41.997662</td>\n",
       "      <td>-87.700128</td>\n",
       "      <td>POINT (-87.700128203434 41.99766204922)</td>\n",
       "    </tr>\n",
       "    <tr>\n",
       "      <th>2</th>\n",
       "      <td>DRIVER</td>\n",
       "      <td>f25f09798b51603bde602ded37fea826fc8b7f962fc3b0...</td>\n",
       "      <td>805338.0</td>\n",
       "      <td>M</td>\n",
       "      <td>36.0</td>\n",
       "      <td>UNKNOWN</td>\n",
       "      <td>NOT OBSCURED</td>\n",
       "      <td>NORMAL</td>\n",
       "      <td>f25f09798b51603bde602ded37fea826fc8b7f962fc3b0...</td>\n",
       "      <td>2</td>\n",
       "      <td>...</td>\n",
       "      <td>NO INJURY / DRIVE AWAY</td>\n",
       "      <td>OVER $1,500</td>\n",
       "      <td>IMPROPER OVERTAKING/PASSING</td>\n",
       "      <td>2</td>\n",
       "      <td>18</td>\n",
       "      <td>1</td>\n",
       "      <td>2</td>\n",
       "      <td>41.997662</td>\n",
       "      <td>-87.700128</td>\n",
       "      <td>POINT (-87.700128203434 41.99766204922)</td>\n",
       "    </tr>\n",
       "    <tr>\n",
       "      <th>3</th>\n",
       "      <td>DRIVER</td>\n",
       "      <td>49336aaca932f7935c361c892d31e01360a08133079e3a...</td>\n",
       "      <td>834553.0</td>\n",
       "      <td>M</td>\n",
       "      <td>26.0</td>\n",
       "      <td>IMPROPER BACKING</td>\n",
       "      <td>WINDSHIELD (WATER/ICE)</td>\n",
       "      <td>NORMAL</td>\n",
       "      <td>49336aaca932f7935c361c892d31e01360a08133079e3a...</td>\n",
       "      <td>1</td>\n",
       "      <td>...</td>\n",
       "      <td>NO INJURY / DRIVE AWAY</td>\n",
       "      <td>OVER $1,500</td>\n",
       "      <td>IMPROPER BACKING</td>\n",
       "      <td>2</td>\n",
       "      <td>12</td>\n",
       "      <td>3</td>\n",
       "      <td>5</td>\n",
       "      <td>41.931414</td>\n",
       "      <td>-87.759020</td>\n",
       "      <td>POINT (-87.759019512841 41.931414096945)</td>\n",
       "    </tr>\n",
       "    <tr>\n",
       "      <th>4</th>\n",
       "      <td>DRIVER</td>\n",
       "      <td>49336aaca932f7935c361c892d31e01360a08133079e3a...</td>\n",
       "      <td>834560.0</td>\n",
       "      <td>F</td>\n",
       "      <td>64.0</td>\n",
       "      <td>NONE</td>\n",
       "      <td>NOT OBSCURED</td>\n",
       "      <td>NORMAL</td>\n",
       "      <td>49336aaca932f7935c361c892d31e01360a08133079e3a...</td>\n",
       "      <td>2</td>\n",
       "      <td>...</td>\n",
       "      <td>NO INJURY / DRIVE AWAY</td>\n",
       "      <td>OVER $1,500</td>\n",
       "      <td>IMPROPER BACKING</td>\n",
       "      <td>2</td>\n",
       "      <td>12</td>\n",
       "      <td>3</td>\n",
       "      <td>5</td>\n",
       "      <td>41.931414</td>\n",
       "      <td>-87.759020</td>\n",
       "      <td>POINT (-87.759019512841 41.931414096945)</td>\n",
       "    </tr>\n",
       "  </tbody>\n",
       "</table>\n",
       "<p>5 rows × 37 columns</p>\n",
       "</div>"
      ],
      "text/plain": [
       "  PERSON_TYPE                                    CRASH_RECORD_ID  VEHICLE_ID  \\\n",
       "0      DRIVER  af84fb5c8d996fcd3aefd36593c3a02e6e7509eeb27568...    827212.0   \n",
       "1      DRIVER  f25f09798b51603bde602ded37fea826fc8b7f962fc3b0...    805348.0   \n",
       "2      DRIVER  f25f09798b51603bde602ded37fea826fc8b7f962fc3b0...    805338.0   \n",
       "3      DRIVER  49336aaca932f7935c361c892d31e01360a08133079e3a...    834553.0   \n",
       "4      DRIVER  49336aaca932f7935c361c892d31e01360a08133079e3a...    834560.0   \n",
       "\n",
       "  SEX   AGE     DRIVER_ACTION           DRIVER_VISION PHYSICAL_CONDITION  \\\n",
       "0   M  37.0              NONE            NOT OBSCURED             NORMAL   \n",
       "1   F  34.0           UNKNOWN            NOT OBSCURED             NORMAL   \n",
       "2   M  36.0           UNKNOWN            NOT OBSCURED             NORMAL   \n",
       "3   M  26.0  IMPROPER BACKING  WINDSHIELD (WATER/ICE)             NORMAL   \n",
       "4   F  64.0              NONE            NOT OBSCURED             NORMAL   \n",
       "\n",
       "                                   CRASH_RECORD_ID_y UNIT_NO  ...  \\\n",
       "0  af84fb5c8d996fcd3aefd36593c3a02e6e7509eeb27568...       2  ...   \n",
       "1  f25f09798b51603bde602ded37fea826fc8b7f962fc3b0...       1  ...   \n",
       "2  f25f09798b51603bde602ded37fea826fc8b7f962fc3b0...       2  ...   \n",
       "3  49336aaca932f7935c361c892d31e01360a08133079e3a...       1  ...   \n",
       "4  49336aaca932f7935c361c892d31e01360a08133079e3a...       2  ...   \n",
       "\n",
       "               CRASH_TYPE        DAMAGE      PRIM_CONTRIBUTORY_CAUSE  \\\n",
       "0  NO INJURY / DRIVE AWAY  $500 OR LESS  IMPROPER OVERTAKING/PASSING   \n",
       "1  NO INJURY / DRIVE AWAY   OVER $1,500  IMPROPER OVERTAKING/PASSING   \n",
       "2  NO INJURY / DRIVE AWAY   OVER $1,500  IMPROPER OVERTAKING/PASSING   \n",
       "3  NO INJURY / DRIVE AWAY   OVER $1,500             IMPROPER BACKING   \n",
       "4  NO INJURY / DRIVE AWAY   OVER $1,500             IMPROPER BACKING   \n",
       "\n",
       "  NUM_UNITS CRASH_HOUR CRASH_DAY_OF_WEEK CRASH_MONTH   LATITUDE  LONGITUDE  \\\n",
       "0         2         22                 2           4  41.736044 -87.653404   \n",
       "1         2         18                 1           2  41.997662 -87.700128   \n",
       "2         2         18                 1           2  41.997662 -87.700128   \n",
       "3         2         12                 3           5  41.931414 -87.759020   \n",
       "4         2         12                 3           5  41.931414 -87.759020   \n",
       "\n",
       "                                   LOCATION  \n",
       "0  POINT (-87.653404241798 41.736044089544)  \n",
       "1   POINT (-87.700128203434 41.99766204922)  \n",
       "2   POINT (-87.700128203434 41.99766204922)  \n",
       "3  POINT (-87.759019512841 41.931414096945)  \n",
       "4  POINT (-87.759019512841 41.931414096945)  \n",
       "\n",
       "[5 rows x 37 columns]"
      ]
     },
     "execution_count": 135,
     "metadata": {},
     "output_type": "execute_result"
    }
   ],
   "source": [
    "# First five rows\n",
    "df_combined.head()"
   ]
  },
  {
   "cell_type": "code",
   "execution_count": 136,
   "metadata": {},
   "outputs": [
    {
     "data": {
      "text/plain": [
       "(577689, 37)"
      ]
     },
     "execution_count": 136,
     "metadata": {},
     "output_type": "execute_result"
    }
   ],
   "source": [
    "df_combined.shape"
   ]
  },
  {
   "attachments": {},
   "cell_type": "markdown",
   "metadata": {},
   "source": [
    "Having cleaned and merged our data we have a total of 577689 rows and 37 columns for the combined dataset."
   ]
  },
  {
   "attachments": {},
   "cell_type": "markdown",
   "metadata": {},
   "source": []
  }
 ],
 "metadata": {
  "kernelspec": {
   "display_name": "Python (learn-env)",
   "language": "python",
   "name": "learn-env"
  },
  "language_info": {
   "codemirror_mode": {
    "name": "ipython",
    "version": 3
   },
   "file_extension": ".py",
   "mimetype": "text/x-python",
   "name": "python",
   "nbconvert_exporter": "python",
   "pygments_lexer": "ipython3",
   "version": "3.8.5"
  },
  "orig_nbformat": 4
 },
 "nbformat": 4,
 "nbformat_minor": 2
}
